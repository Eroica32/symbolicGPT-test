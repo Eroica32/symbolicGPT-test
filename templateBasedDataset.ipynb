{
 "cells": [
  {
   "cell_type": "code",
   "execution_count": 2,
   "id": "236ea23a",
   "metadata": {},
   "outputs": [],
   "source": [
    "import os\n",
    "import json\n",
    "import random\n",
    "import numpy as np\n",
    "from datetime import datetime"
   ]
  },
  {
   "cell_type": "code",
   "execution_count": 377,
   "id": "f4f5cae9",
   "metadata": {},
   "outputs": [
    {
     "name": "stdout",
     "output_type": "stream",
     "text": [
      "./Dataset/id{}_nv2_np[20, 21]_trR[-1.0, 4.0]_teR[4.1, 8.0]_templateBased_t26052021_140050.json\n"
     ]
    }
   ],
   "source": [
    "# Config\n",
    "numSamples = 100\n",
    "numVars = 2\n",
    "seed = 2021\n",
    "numPoints = [20,21]\n",
    "decimals = 4\n",
    "trainRange = [-1.0,4.0]\n",
    "testRange = [4.1,8.0]\n",
    "constantsRange = [1,1]\n",
    "template = {'EQ':'', 'Skeleton':'', 'X':[], 'Y':0.0, 'XT':[], 'YT':0.0,}\n",
    "folder = './Dataset'\n",
    "os.makedirs(folder, exist_ok=True)\n",
    "now = datetime.now()\n",
    "time = now.strftime(\"%d%m%Y_%H%M%S\")\n",
    "dataPath = folder +'/id{}_nv{}_np{}_trR{}_teR{}_templateBased_t{}.json'.format('{}', numVars, numPoints, \n",
    "                                                                 trainRange,\n",
    "                                                                 testRange, \n",
    "                                                                 time)\n",
    "maxSumTerms = 6\n",
    "maxMulTerms = 2\n",
    "maxExponents = 6\n",
    "pSum = 0.99\n",
    "pMul = 0.5\n",
    "print(dataPath)"
   ]
  },
  {
   "cell_type": "code",
   "execution_count": 6,
   "id": "c90fc81c",
   "metadata": {},
   "outputs": [],
   "source": [
    "np.random.seed(seed)\n",
    "random.seed(seed)\n",
    "rng = np.random.RandomState(seed)"
   ]
  },
  {
   "cell_type": "code",
   "execution_count": 7,
   "id": "345bb812",
   "metadata": {},
   "outputs": [],
   "source": [
    "# add a safe wrapper for numpy math functions\n",
    "from numpy import *\n",
    "import numpy as np\n",
    "\n",
    "def divide(x, y):\n",
    "  x = np.nan_to_num(x)\n",
    "  y = np.nan_to_num(y)\n",
    "  return np.divide(x,y+1e-5)\n",
    "\n",
    "def sqrt(x):\n",
    "  x = np.nan_to_num(x)\n",
    "  return np.sqrt(np.abs(x)) \n",
    "\n",
    "# Mean square error\n",
    "def mse(y, y_hat):\n",
    "    y_hat = np.reshape(y_hat, [1, -1])[0]\n",
    "    y_gold = np.reshape(y, [1, -1])[0]\n",
    "    our_sum = 0\n",
    "    for i in range(len(y_gold)):\n",
    "        our_sum += (y_hat[i] - y_gold[i]) ** 2\n",
    "\n",
    "    return our_sum / len(y_gold)\n",
    "\n",
    "# Mean square error\n",
    "def relativeErr(y, y_hat):\n",
    "    y_hat = np.reshape(y_hat, [1, -1])[0]\n",
    "    y_gold = np.reshape(y, [1, -1])[0]\n",
    "    our_sum = 0\n",
    "    for i in range(len(y_gold)):\n",
    "        if y_gold[i] < 1: \n",
    "            # use regular MSE\n",
    "            our_sum += (y_hat[i] - y_gold[i]) ** 2\n",
    "        else:\n",
    "            # use relative MSE\n",
    "            our_sum += ((y_hat[i] - y_gold[i])/y_gold[i]) ** 2\n",
    "\n",
    "    return our_sum / len(y_gold)"
   ]
  },
  {
   "cell_type": "code",
   "execution_count": 10,
   "id": "13c47063",
   "metadata": {},
   "outputs": [],
   "source": [
    "symbols = {\"x\":['x{}'.format(i+1) for i in range(numVars)], \"const\":\"C\"}\n",
    "# Generate Equations\n",
    "equations = []\n",
    "#while len(equations) < numSamples:\n",
    "    #models = generate_models(grammer, symbols, strategy_settings = {\"N\":numSamples}) # the output is an ModelBox object\n",
    "    #equations.extend([eq for eq in models])"
   ]
  },
  {
   "cell_type": "code",
   "execution_count": 358,
   "id": "acebba15",
   "metadata": {},
   "outputs": [],
   "source": [
    "templates = {\n",
    "    'polynomials': '{}*{}**{}'.format(symbols['const'],'{}','{}'), # identity is part of the polynomials\n",
    "    'exponentials': '{}*exp({})**{}'.format(symbols['const'],'{}','{}'),\n",
    "    'logarithms': '{}*log({})**{}'.format(symbols['const'],'{}','{}'),\n",
    "    'cos': '{}*cos({})**{}'.format(symbols['const'],'{}','{}'),\n",
    "    'sin': '{}*sin({})**{}'.format(symbols['const'],'{}','{}'),\n",
    "    'sqrt': '{}*sqrt({})**{}'.format(symbols['const'],'{}','{}'),\n",
    "    'power': '{}*{}**{}'.format(symbols['const'],'{}','{}'),\n",
    "    'identity': '{}*{}'.format(symbols['const'],'{}'),\n",
    "}"
   ]
  },
  {
   "cell_type": "code",
   "execution_count": 384,
   "id": "eebe0268",
   "metadata": {},
   "outputs": [
    {
     "data": {
      "text/plain": [
       "{'x': ['x1', 'x2'], 'const': 'C'}"
      ]
     },
     "execution_count": 384,
     "metadata": {},
     "output_type": "execute_result"
    }
   ],
   "source": [
    "symbols"
   ]
  },
  {
   "cell_type": "code",
   "execution_count": 359,
   "id": "e84bae74",
   "metadata": {},
   "outputs": [
    {
     "data": {
      "text/plain": [
       "{'polynomials': 'C*{}**{}',\n",
       " 'exponentials': 'C*exp({})**{}',\n",
       " 'logarithms': 'C*log({})**{}',\n",
       " 'cos': 'C*cos({})**{}',\n",
       " 'sin': 'C*sin({})**{}',\n",
       " 'sqrt': 'C*sqrt({})**{}',\n",
       " 'power': 'C*{}**{}',\n",
       " 'identity': 'C*{}'}"
      ]
     },
     "execution_count": 359,
     "metadata": {},
     "output_type": "execute_result"
    }
   ],
   "source": [
    "templates"
   ]
  },
  {
   "cell_type": "code",
   "execution_count": 735,
   "id": "59b523d6",
   "metadata": {},
   "outputs": [
    {
     "name": "stdout",
     "output_type": "stream",
     "text": [
      "C+C*exp(x2)**3**sin(x2)**4+C*cos(x2)**2\n"
     ]
    }
   ],
   "source": [
    "# Generate the data\n",
    "fileID = 1\n",
    "\n",
    "numTermsChoices = list(range(maxSumTerms))\n",
    "keys = list(templates.keys())\n",
    "for i in range(numSamples):\n",
    "    numTerms = np.random.choice(numTermsChoices) # choose the number of terms\n",
    "    eq = '{}'.format(symbols['const']) # add a constant\n",
    "    for i in range(numTerms): # for each term, generate an expression\n",
    "        \n",
    "        # generate an equation\n",
    "        if np.random.rand() < pSum: # Summation probability\n",
    "            term = np.random.choice(len(templates)) # choose a term\n",
    "            if keys[term] != 'power': # except power which is designed for expression like t1^t2, all the others have the same template\n",
    "                exponent = np.random.choice(maxExponents) # choose an exponent\n",
    "                if exponent != 0: # if exponent is not zero continue, otherwise ignore this term.\n",
    "                    # generate the first term\n",
    "                    if keys[term] == 'identity':\n",
    "                        t1 = (templates[keys[term]] + '').format(np.random.choice(symbols['x']))\n",
    "                    else:\n",
    "                        t1 = (templates[keys[term]] + '').format(np.random.choice(symbols['x']), exponent)\n",
    "                    if np.random.rand() < pMul: # Multiplication Probability (t1*t2)\n",
    "                        # create the second term\n",
    "                        term2 = np.random.choice(len(templates)) # choose a term\n",
    "                        exponent = np.random.choice(maxExponents) # choose an exponent\n",
    "                        if exponent != 0: # if exponent is not zero continue, otherwise ignore this term.\n",
    "                            if keys[term] == 'identity':\n",
    "                                t2 = (templates[keys[term]] + '').format(np.random.choice(symbols['x'])).strip('C*')\n",
    "                            else:\n",
    "                                t2 = (templates[keys[term]] + '').format(np.random.choice(symbols['x']), exponent).strip('C*')\n",
    "                            t += '*' + t2\n",
    "                    eq += '+' + t1\n",
    "            else:\n",
    "                # for the special t1^t2 case\n",
    "                term = np.random.choice(len(templates)) # choose a term\n",
    "                exponent = np.random.choice(maxExponents) # choose an exponent\n",
    "                if exponent != 0: # if exponent is not zero continue, otherwise ignore this term.\n",
    "                    # generate the first term\n",
    "                    if keys[term] == 'identity':\n",
    "                        t1 = (templates[keys[term]] + '').format(np.random.choice(symbols['x'])).strip('C*')\n",
    "                    else:\n",
    "                        t1 = (templates[keys[term]] + '').format(np.random.choice(symbols['x']), exponent).strip('C*')\n",
    "                term = np.random.choice(len(templates)) # choose a term\n",
    "                exponent = np.random.choice(maxExponents) # choose an exponent\n",
    "                if exponent != 0: # if exponent is not zero continue, otherwise ignore this term.\n",
    "                    # generate the first term\n",
    "                    if keys[term] == 'identity':\n",
    "                        t2 = (templates[keys[term]] + '').format(np.random.choice(symbols['x'])).strip('C*')\n",
    "                    else:\n",
    "                        t2 = (templates[keys[term]] + '').format(np.random.choice(symbols['x']), exponent).strip('C*')\n",
    "                t = 'C*' + (templates['power']+'').format(t1, t2).strip('C*')\n",
    "                eq += '+' + t                \n",
    "        \n",
    "        \n",
    "    # generate data points \n",
    "    skeletonEqn = eq + '' # copy an equation\n",
    "    chosenPoints = np.random.randint(numPoints[0],numPoints[1]) # for each equation choose the number of points randomly\n",
    "\n",
    "    # find all constants in the generated equation, generate a random number based on the given boundry\n",
    "    constants = [random.uniform(constantsRange[0], constantsRange[1]) for i,x in enumerate(skeletonEqn) if x=='C']            \n",
    "    eq = skeletonEqn.replace('C','{}').format(*constants) if len(constants)>0 else skeletonEqn\n",
    "\n",
    "    # for each variable, generate the same number of points (x: (numPoints, numVars))\n",
    "    X = np.round(rng.uniform(low=trainRange[0], high=trainRange[1], size=(chosenPoints,numVars)), decimals) # generate random points uniformly\n",
    "\n",
    "    # calculate y based on x\n",
    "    Y = []\n",
    "    for point in X:\n",
    "        tmpEq = eq + '' # copy the string\n",
    "        for varId in range(numVars):\n",
    "            tmpEq = tmpEq.replace('x{}'.format(varId+1),str(np.round(point[varId], decimals)))\n",
    "        try: \n",
    "            y = eval(tmpEq)\n",
    "            if type(y) is np.complex128 or np.complex:\n",
    "                y = 0 #abs(err.real)\n",
    "        except ZeroDivisionError:\n",
    "            y = 0\n",
    "        except OverflowError:\n",
    "            y = 0\n",
    "        except:\n",
    "            raise Exception('Err to process this equation: {}, original:{}'.format(tmpEq, skeletonEqn)) \n",
    "        Y.append(round(y, decimals))\n",
    "\n",
    "    # generate xt for the test range\n",
    "    XT = np.round(rng.uniform(low=testRange[0], high=testRange[1], size=(chosenPoints,numVars)), decimals) # generate random points uniformly\n",
    "\n",
    "    # calculate yt based on xt\n",
    "    YT = []\n",
    "    for point in XT:\n",
    "        tmpEq = eq + '' # copy the string\n",
    "        for varId in range(numVars):\n",
    "            tmpEq = tmpEq.replace('x{}'.format(varId+1),str(point[varId]))\n",
    "        try: \n",
    "            y = eval(tmpEq)\n",
    "            if type(y) is np.complex128 or np.complex:\n",
    "                y = 0 #abs(err.real)\n",
    "        except ZeroDivisionError:\n",
    "            y = 0\n",
    "        except OverflowError:\n",
    "            y = 0\n",
    "        except:\n",
    "            raise Exception('Err to process this equation: {}, original:{}'.format(tmpEq, skeletonEqn)) \n",
    "        YT.append(round(y, decimals))\n",
    "\n",
    "    structure = template.copy() # copy the template\n",
    "\n",
    "    # hold data in the structure\n",
    "    structure['X'] = X.tolist()\n",
    "    structure['Y'] = Y\n",
    "    structure['Skeleton'] = skeletonEqn\n",
    "    structure['EQ'] = eq\n",
    "    structure['XT'] = XT.tolist()\n",
    "    structure['YT'] = YT\n",
    "\n",
    "    # write to a file\n",
    "    outputPath = dataPath.format(fileID)\n",
    "    if os.path.exists(outputPath):\n",
    "        fileSize = os.path.getsize(outputPath)\n",
    "        if fileSize > 500000000: # 500 MB\n",
    "            fileID +=1 \n",
    "\n",
    "    with open(outputPath, \"a\", encoding=\"utf-8\") as h:\n",
    "        json.dump(structure, h, ensure_ascii=False)\n",
    "        h.write('\\n')\n",
    "\n",
    "    print(structure['Skeleton'])\n",
    "    break"
   ]
  }
 ],
 "metadata": {
  "kernelspec": {
   "display_name": "Python 3",
   "language": "python",
   "name": "python3"
  },
  "language_info": {
   "codemirror_mode": {
    "name": "ipython",
    "version": 3
   },
   "file_extension": ".py",
   "mimetype": "text/x-python",
   "name": "python",
   "nbconvert_exporter": "python",
   "pygments_lexer": "ipython3",
   "version": "3.7.6"
  }
 },
 "nbformat": 4,
 "nbformat_minor": 5
}
