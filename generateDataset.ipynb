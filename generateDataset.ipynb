{
 "cells": [
  {
   "cell_type": "code",
   "execution_count": 1,
   "id": "07f5a931",
   "metadata": {},
   "outputs": [],
   "source": [
    "import os\n",
    "import json\n",
    "import ProGED\n",
    "import random\n",
    "import numpy as np\n",
    "from datetime import datetime\n",
    "from ProGED.generators.grammar_construction import grammar_from_template\n",
    "from ProGED.generate import generate_models"
   ]
  },
  {
   "cell_type": "code",
   "execution_count": 2,
   "id": "29af8700",
   "metadata": {},
   "outputs": [],
   "source": [
    "# GRAMMAR_LIBRARY = {\n",
    "#     \"universal\": construct_grammar_universal,\n",
    "#     \"universal-dim\": construct_grammar_universal_dim,\n",
    "#     \"rational\": construct_grammar_rational,\n",
    "#     \"simplerational\": construct_grammar_simplerational,\n",
    "#     \"polytrig\": construct_grammar_polytrig,\n",
    "#     \"trigonometric\": construct_grammar_trigonometric,\n",
    "#     \"polynomial\": construct_grammar_polynomial}"
   ]
  },
  {
   "cell_type": "code",
   "execution_count": 3,
   "id": "0f28fda2",
   "metadata": {},
   "outputs": [
    {
     "name": "stdout",
     "output_type": "stream",
     "text": [
      "./Dataset/id{}_nv2_np[20, 21]_trR[-1.0, 4.0]_teR[4.1, 8.0]_t25052021_230810.json\n"
     ]
    }
   ],
   "source": [
    "# Config\n",
    "numSamples = 100\n",
    "numVars = 2\n",
    "seed = 2021\n",
    "numPoints = [20,21]\n",
    "decimals = 4\n",
    "trainRange = [-1.0,4.0]\n",
    "testRange = [4.1,8.0]\n",
    "constantsRange = [1,1]\n",
    "template = {'EQ':'', 'Skeleton':'', 'X':[], 'Y':0.0, 'XT':[], 'YT':0.0,}\n",
    "folder = './Dataset'\n",
    "os.makedirs(folder, exist_ok=True)\n",
    "now = datetime.now()\n",
    "time = now.strftime(\"%d%m%Y_%H%M%S\")\n",
    "dataPath = folder +'/id{}_nv{}_np{}_trR{}_teR{}_t{}.json'.format('{}', numVars, numPoints, \n",
    "                                                                 trainRange,\n",
    "                                                                 testRange, \n",
    "                                                                 time)\n",
    "print(dataPath)"
   ]
  },
  {
   "cell_type": "code",
   "execution_count": 4,
   "id": "8bebef02",
   "metadata": {},
   "outputs": [],
   "source": [
    "# add a safe wrapper for numpy math functions\n",
    "from numpy import *\n",
    "import numpy as np\n",
    "\n",
    "def divide(x, y):\n",
    "  x = np.nan_to_num(x)\n",
    "  y = np.nan_to_num(y)\n",
    "  return np.divide(x,y+1e-5)\n",
    "\n",
    "def sqrt(x):\n",
    "  x = np.nan_to_num(x)\n",
    "  return np.sqrt(np.abs(x)) \n",
    "\n",
    "# Mean square error\n",
    "def mse(y, y_hat):\n",
    "    y_hat = np.reshape(y_hat, [1, -1])[0]\n",
    "    y_gold = np.reshape(y, [1, -1])[0]\n",
    "    our_sum = 0\n",
    "    for i in range(len(y_gold)):\n",
    "        our_sum += (y_hat[i] - y_gold[i]) ** 2\n",
    "\n",
    "    return our_sum / len(y_gold)\n",
    "\n",
    "# Mean square error\n",
    "def relativeErr(y, y_hat):\n",
    "    y_hat = np.reshape(y_hat, [1, -1])[0]\n",
    "    y_gold = np.reshape(y, [1, -1])[0]\n",
    "    our_sum = 0\n",
    "    for i in range(len(y_gold)):\n",
    "        if y_gold[i] < 1: \n",
    "            # use regular MSE\n",
    "            our_sum += (y_hat[i] - y_gold[i]) ** 2\n",
    "        else:\n",
    "            # use relative MSE\n",
    "            our_sum += ((y_hat[i] - y_gold[i])/y_gold[i]) ** 2\n",
    "\n",
    "    return our_sum / len(y_gold)"
   ]
  },
  {
   "cell_type": "code",
   "execution_count": 5,
   "id": "9ae86915",
   "metadata": {},
   "outputs": [],
   "source": [
    "np.random.seed(seed)\n",
    "random.seed(seed)\n",
    "rng = np.random.RandomState(seed)"
   ]
  },
  {
   "cell_type": "code",
   "execution_count": 6,
   "id": "4a0d49cf",
   "metadata": {},
   "outputs": [],
   "source": [
    "symbols = {\"x\":['x{}'.format(i+1) for i in range(numVars)], \"start\":\"S\", \"const\":\"C\"}\n",
    "grammer = grammar_from_template(\"universal\", \n",
    "    {\"functions\":[\"sin\", \"sqrt\", \"exp\", \"log\"], \n",
    "    \"variables\":[\"'x{}'\".format(i+1) for i in range(numVars)],\n",
    "    \"p_sum\":[0.2, 0.2, 0.6], \n",
    "    \"p_mul\": [0.3, 0.1, 0.6], \n",
    "    \"p_rec\": [0.2, 0.4, 0.4], \n",
    "    \"p_vars\":[1/numVars for i in range(numVars)],\n",
    "    \"p_functs\":[0.7, 0.1, 0.1, 0.05, 0.05]})"
   ]
  },
  {
   "cell_type": "code",
   "execution_count": 7,
   "id": "e2324f0f",
   "metadata": {},
   "outputs": [],
   "source": [
    "# Generate Equations\n",
    "equations = []\n",
    "while len(equations) < numSamples:\n",
    "    models = generate_models(grammer, symbols, strategy_settings = {\"N\":numSamples}) # the output is an ModelBox object\n",
    "    equations.extend([eq for eq in models])"
   ]
  },
  {
   "cell_type": "code",
   "execution_count": 9,
   "id": "812f525b",
   "metadata": {},
   "outputs": [
    {
     "name": "stderr",
     "output_type": "stream",
     "text": [
      "C:\\Users\\vpcom\\AppData\\Roaming\\Python\\Python37\\site-packages\\ipykernel_launcher.py:1: RuntimeWarning: invalid value encountered in log\n",
      "  \"\"\"Entry point for launching an IPython kernel.\n",
      "C:\\Users\\vpcom\\AppData\\Roaming\\Python\\Python37\\site-packages\\ipykernel_launcher.py:1: RuntimeWarning: invalid value encountered in sin\n",
      "  \"\"\"Entry point for launching an IPython kernel.\n"
     ]
    }
   ],
   "source": [
    "# Generate the data\n",
    "fileID = 1\n",
    "\n",
    "for eq in equations:\n",
    "    skeletonEqn = eq.__str__() # convert the object to string\n",
    "    \n",
    "    chosenPoints = np.random.randint(numPoints[0],numPoints[1]) # for each equation choose the number of points randomly\n",
    "    \n",
    "    # find all constants in the generated equation, generate a random number based on the given boundry\n",
    "    constants = [random.uniform(constantsRange[0], constantsRange[1]) for i,x in enumerate(skeletonEqn) if x=='C']            \n",
    "    eq = skeletonEqn.replace('C','{}').format(*constants) if len(constants)>0 else skeletonEqn\n",
    "    \n",
    "    # for each variable, generate the same number of points (x: (numPoints, numVars))\n",
    "    X = np.round(rng.uniform(low=trainRange[0], high=trainRange[1], size=(chosenPoints,numVars)), decimals) # generate random points uniformly\n",
    "    \n",
    "    # calculate y based on x\n",
    "    Y = []\n",
    "    for point in X:\n",
    "        tmpEq = eq + '' # copy the string\n",
    "        for varId in range(numVars):\n",
    "            tmpEq = tmpEq.replace('x{}'.format(varId+1),str(np.round(point[varId], decimals)))\n",
    "        y = eval(tmpEq)\n",
    "        Y.append(np.round(y))\n",
    "        \n",
    "    # generate xt for the test range\n",
    "    XT = np.round(rng.uniform(low=testRange[0], high=testRange[1], size=(chosenPoints,numVars)), decimals) # generate random points uniformly\n",
    "    \n",
    "    # calculate yt based on xt\n",
    "    YT = []\n",
    "    for point in XT:\n",
    "        tmpEq = eq + '' # copy the string\n",
    "        for varId in range(numVars):\n",
    "            tmpEq = tmpEq.replace('x{}'.format(varId+1),str(point[varId]))\n",
    "        y = eval(tmpEq)\n",
    "        YT.append(np.round(y))\n",
    "    \n",
    "    structure = template.copy() # copy the template\n",
    "    \n",
    "    # hold data in the structure\n",
    "    structure['X'] = X.tolist()\n",
    "    structure['Y'] = Y\n",
    "    structure['Skeleton'] = skeletonEqn\n",
    "    structure['EQ'] = eq\n",
    "    structure['XT'] = XT.tolist()\n",
    "    structure['YT'] = YT\n",
    "    \n",
    "    # write to a file\n",
    "    outputPath = dataPath.format(fileID)\n",
    "    if os.path.exists(outputPath):\n",
    "        fileSize = os.path.getsize(outputPath)\n",
    "        if fileSize > 500000000: # 500 MB\n",
    "            fileID +=1 \n",
    "        \n",
    "    with open(outputPath, \"a\", encoding=\"utf-8\") as h:\n",
    "        json.dump(structure, h, ensure_ascii=False)\n",
    "        h.write('\\n')"
   ]
  },
  {
   "cell_type": "code",
   "execution_count": 10,
   "id": "30dd60e6",
   "metadata": {},
   "outputs": [],
   "source": [
    "# Temp"
   ]
  },
  {
   "cell_type": "code",
   "execution_count": 20,
   "id": "78aa2692",
   "metadata": {},
   "outputs": [
    {
     "name": "stdout",
     "output_type": "stream",
     "text": [
      "ModelBox: 8 models\n",
      "-> C*x2/x1, p = 0.0002592, parse trees = 1, valid = False\n",
      "-> x2/x1, p = 0.0064800000000000005, parse trees = 1, valid = False\n",
      "-> x2, p = 0.108, parse trees = 1, valid = False\n",
      "-> x1/x2, p = 0.0064800000000000005, parse trees = 1, valid = False\n",
      "-> C + x2, p = 0.00011197440000000002, parse trees = 1, valid = False\n",
      "-> C*x1 + 2*x1 + x2, p = 2.0155392e-07, parse trees = 1, valid = False\n",
      "-> C*x2 + C + C/x2 + x1*x2**3/cos(x1*sqrt(x1 + x2) + x2**2) + x1, p = 2.112394198730865e-37, parse trees = 1, valid = False\n",
      "-> sqrt(x2), p = 4.665600000000001e-05, parse trees = 1, valid = False\n"
     ]
    }
   ],
   "source": [
    "symbols = {\"x\":['x1', 'x2'], \"start\":\"S\", \"const\":\"C\"}\n",
    "grammer = grammar_from_template(\"universal\",\n",
    "             {\"variables\":[\"'x1'\", \"'x2'\"],\n",
    "              \"p_vars\":[0.5,0.5],\n",
    "              \"functions\":[\"sin\", \"cos\", \"sqrt\", \"exp\"],\n",
    "              \"p_functs\":[0.6, 0.1, 0.1, 0.1, 0.1],\n",
    "              \"p_sum\":[0.2, 0.2, 0.6], \n",
    "              \"p_mul\":[0.2, 0.2, 0.6],\n",
    "              \"p_rec\":[0.2, 0.2, 0.6],\n",
    "             })   \n",
    "    \n",
    "models = generate_models(grammer, symbols, strategy_settings = {\"N\":10})\n",
    "print(models)"
   ]
  },
  {
   "cell_type": "code",
   "execution_count": 21,
   "id": "6c25381f",
   "metadata": {},
   "outputs": [
    {
     "name": "stdout",
     "output_type": "stream",
     "text": [
      "ModelBox: 10 models\n",
      "-> C*x1 + x1, p = 1.1796480000000002e-06, parse trees = 1, valid = False\n",
      "-> C*x1 + C + x1*sin(1), p = 2.264924160000001e-11, parse trees = 1, valid = False\n",
      "-> C/(x3*(C*x2 + C - x2)), p = 7.514474781081598e-16, parse trees = 1, valid = False\n",
      "-> C + 2*x1, p = 2.3887871999999995e-05, parse trees = 1, valid = False\n",
      "-> C*x1 + C*cos(C*x1 + C*x3 + C), p = 6.597069766656e-21, parse trees = 1, valid = False\n",
      "-> x1, p = 0.144, parse trees = 1, valid = False\n",
      "-> C*x1, p = 0.00012287999999999996, parse trees = 1, valid = False\n",
      "-> C + x1, p = 0.000497664, parse trees = 1, valid = False\n",
      "-> C*x1 + C, p = 0.0009215999999999997, parse trees = 1, valid = False\n",
      "-> x1/(C + C/x3), p = 9.555148800000004e-08, parse trees = 1, valid = False\n"
     ]
    }
   ],
   "source": [
    "symbols = {\"x\":['x1', 'x2', 'x3'], \"start\":\"S\", \"const\":\"C\"}\n",
    "grammer = grammar_from_template(\"universal-dim\",\n",
    "             {\"variables\":[\"'x1'\", \"'x2'\", \"'x3'\"],\n",
    "              \"functions\":[\"sin\", \"cos\", \"sqrt\", \"exp\"],\n",
    "              \"p_functs\":[0.6, 0.1, 0.1, 0.1, 0.1],\n",
    "              \"p_sum\":[0.2, 0.2, 0.6], \n",
    "              \"p_mul\":[0.2, 0.2, 0.6],\n",
    "              \"p_rec\":[0.2, 0.4, 0.4],\n",
    "              \"units\":[[2,-2,1,0,0], [1,0,0,0,0], [-1,0,0,0,0], [2,-2,1,0,0]], \n",
    "              \"target_variable_unit_index\":-1,\n",
    "              \"dimensionless\":[0,0,0,0,0]\n",
    "             })   \n",
    "    \n",
    "models = generate_models(grammer, symbols, strategy_settings = {\"N\":10})\n",
    "print(models)"
   ]
  },
  {
   "cell_type": "code",
   "execution_count": 247,
   "id": "5a03830e",
   "metadata": {},
   "outputs": [
    {
     "name": "stdout",
     "output_type": "stream",
     "text": [
      "ModelBox: 9 models\n",
      "-> C*exp(C*x1), p = 0.018765595607039998, parse trees = 2, valid = False\n",
      "-> C/(C*exp(C*x1) + C), p = 0.0001719926784, parse trees = 1, valid = False\n",
      "-> C*(C*x1**2 + C), p = 0.0007166361600000001, parse trees = 1, valid = False\n",
      "-> (C*x1 + C*exp(C*x1**2) + C)/(C*exp(C*x1**2) + C), p = 6.340338096537601e-07, parse trees = 1, valid = False\n",
      "-> exp(C*x1), p = 0.012441599999999997, parse trees = 1, valid = False\n",
      "-> C*(C*exp(C*x1) + C), p = 0.0002579890176, parse trees = 1, valid = False\n",
      "-> (C*x1**2 + C*exp(C*x1**2))/(C*exp(C*x1) + C*exp(C*x1**2) + C), p = 1.521681143169024e-07, parse trees = 1, valid = False\n",
      "-> C*(C*exp(C*x1) + C)*exp(C*x1), p = 0.0010749542399999998, parse trees = 1, valid = False\n",
      "-> (C*x1 + C*exp(C*x1))/(C*exp(C*x1) + C), p = 3.962711310335999e-06, parse trees = 1, valid = False\n"
     ]
    }
   ],
   "source": [
    "symbols = {\"x\":['x1'], \"start\":\"S\", \"const\":\"C\"}\n",
    "grammer = grammar_from_template(\"rational\",\n",
    "             {\"functions\":[\"'exp'\"],\n",
    "              \"variables\":[\"'x1'\"],\n",
    "              \"p_vars\":[1],\n",
    "              \"p_S\":[0.4, 0.6], \n",
    "              \"p_T\":[0.4, 0.6],\n",
    "              \"p_R\":[0.4, 0.6],\n",
    "              \"p_F\":[1], \n",
    "             })   \n",
    "    \n",
    "models = generate_models(grammer, symbols, strategy_settings = {\"N\":10})\n",
    "print(models)"
   ]
  },
  {
   "cell_type": "code",
   "execution_count": 249,
   "id": "421f0918",
   "metadata": {},
   "outputs": [
    {
     "name": "stdout",
     "output_type": "stream",
     "text": [
      "ModelBox: 9 models\n",
      "-> C*x1, p = 0.0864, parse trees = 1, valid = False\n",
      "-> C*x1**2 + C, p = 0.013824000000000001, parse trees = 1, valid = False\n",
      "-> C*x1**5, p = 0.00221184, parse trees = 1, valid = False\n",
      "-> C*exp(C*x1) + C, p = 0.000331776, parse trees = 1, valid = False\n",
      "-> C/x1, p = 0.0216, parse trees = 1, valid = False\n",
      "-> C*exp(C*x1) + C*exp(C*x1**2), p = 0.00221184, parse trees = 1, valid = False\n",
      "-> C*exp(C*x1), p = 0.0576, parse trees = 1, valid = False\n",
      "-> C*x1**2 + C*x1 + C, p = 0.0019906560000000004, parse trees = 1, valid = False\n",
      "-> C*x1**3, p = 0.013824000000000001, parse trees = 1, valid = False\n"
     ]
    }
   ],
   "source": [
    "symbols = {\"x\":['x1'], \"start\":\"S\", \"const\":\"C\"}\n",
    "grammer = grammar_from_template(\"simplerational\",\n",
    "             {\"functions\":[\"'exp'\"],\n",
    "              \"variables\":[\"'x1'\"],\n",
    "              \"p_vars\":[1],\n",
    "              \"p_F\":[1],\n",
    "              \"p_S\":[0.2, 0.8], \n",
    "              \"p_P\":[0.4, 0.3, 0.3],\n",
    "              \"p_R\":[0.4, 0.6],\n",
    "              \"p_M\":[0.4, 0.6], \n",
    "             })   \n",
    "    \n",
    "models = generate_models(grammer, symbols, strategy_settings = {\"N\":10})\n",
    "print(models)"
   ]
  },
  {
   "cell_type": "code",
   "execution_count": 262,
   "id": "2d8e07ea",
   "metadata": {},
   "outputs": [
    {
     "name": "stdout",
     "output_type": "stream",
     "text": [
      "ModelBox: 9 models\n",
      "-> C*x1*x2 + C*x1*x3 + C*x1 + C*x2 + C, p = 1.8087890624999998e-06, parse trees = 1, valid = False\n",
      "-> C*x1*x2*x3 + C, p = 0.0005625, parse trees = 1, valid = False\n",
      "-> C*x2*x3 + C*x2 + C*x3 + C, p = 1.7364374999999992e-06, parse trees = 1, valid = False\n",
      "-> C*x1**2*x2**4*x3 + C*x1**2*x2 + C*x1**2*x3 + C*x1 + C*x3**2 + C*x3 + C, p = 6.262272490561006e-18, parse trees = 1, valid = False\n",
      "-> C*x1**3*x2 + C*x1**2*x2 + C*x1**2 + C*x1*x3 + C*x1 + C*x2**3 + C*x2**2*x3 + C*x2 + C*x3 + C, p = 1.9029578378699922e-22, parse trees = 1, valid = False\n",
      "-> C*x3 + C, p = 0.015, parse trees = 1, valid = False\n",
      "-> C*x2 + C, p = 0.01740375, parse trees = 2, valid = False\n",
      "-> C*x1**4*x2**2*x3 + C*x1**2*x2*x3 + C*x1**2 + C*x1*x2**3 + C*x1*x2 + C*x1*x3 + C*x1 + C*x2 + C*x3 + C, p = 2.9515572949337384e-31, parse trees = 1, valid = False\n",
      "-> C*x1**2*x2*x3**2 + C*x2 + C, p = 1.4765624999999999e-06, parse trees = 1, valid = False\n"
     ]
    }
   ],
   "source": [
    "symbols = {\"x\":[\"'x1'\", \"'x2'\", \"'x3'\"], \"start\":\"S\", \"const\":\"C\"}\n",
    "grammer = grammar_from_template(\"polytrig\",\n",
    "             {\n",
    "              \"variables\":[\"'x1'\", \"'x2'\", \"'x3'\"],\n",
    "              \"p_vars\":[0.5,0.3,0.2],\n",
    "              \"p_more_terms\":[0.7,0.15,0.15],\n",
    "              \"p_higher_terms\":0.5, \n",
    "             })   \n",
    "    \n",
    "models = generate_models(grammer, symbols, strategy_settings = {\"N\":10})\n",
    "print(models)"
   ]
  },
  {
   "cell_type": "code",
   "execution_count": 248,
   "id": "24c5c644",
   "metadata": {},
   "outputs": [
    {
     "name": "stdout",
     "output_type": "stream",
     "text": [
      "ModelBox: 8 models\n",
      "-> tanh(x1), p = 0.08333333333333334, parse trees = 1, valid = False\n",
      "-> cosh(x2), p = 0.08333333333333334, parse trees = 1, valid = False\n",
      "-> tan(x1), p = 0.08333333333333334, parse trees = 1, valid = False\n",
      "-> sin(x1), p = 0.08333333333333334, parse trees = 1, valid = False\n",
      "-> tanh(x2), p = 0.08333333333333334, parse trees = 1, valid = False\n",
      "-> sinh(x2), p = 0.08333333333333334, parse trees = 1, valid = False\n",
      "-> tan(x2), p = 0.08333333333333334, parse trees = 1, valid = False\n",
      "-> cos(x1), p = 0.08333333333333334, parse trees = 1, valid = False\n"
     ]
    }
   ],
   "source": [
    "symbols = {\"x\":['x1', 'x2'], \"start\":\"S\", \"const\":\"C\"}\n",
    "grammer = grammar_from_template(\"trigonometric\",\n",
    "             {\"variables\":[\"'x1'\", \"'x2'\"],\n",
    "              \"p_vars\":[0.5,0.5],\n",
    "              \"functions\":[\"'sin'\", \"'cos'\", \"'tan'\"],\n",
    "              \"probs1\":[0.5,0.5], \n",
    "              \"probs2\":[0.3,0.3,0.3],\n",
    "             })                   \n",
    "    \n",
    "models = generate_models(grammer, symbols, strategy_settings = {\"N\":10})\n",
    "print(models)"
   ]
  },
  {
   "cell_type": "code",
   "execution_count": 117,
   "id": "9e8c79ad",
   "metadata": {},
   "outputs": [
    {
     "name": "stdout",
     "output_type": "stream",
     "text": [
      "ModelBox: 9 models\n",
      "-> C*x2 + C, p = 0.0027648, parse trees = 1, valid = False\n",
      "-> C*x1*x2, p = 0.00864, parse trees = 1, valid = False\n",
      "-> C*x1**3*x2**2 + C, p = 4.423680000000001e-06, parse trees = 1, valid = False\n",
      "-> C*x2**2 + C*x2 + C, p = 1.5925248000000003e-05, parse trees = 1, valid = False\n",
      "-> C*x1 + C, p = 0.004147199999999999, parse trees = 1, valid = False\n",
      "-> C*x1**2 + C*x1, p = 0.00011059200000000001, parse trees = 1, valid = False\n",
      "-> C*x1**2*x2**4 + C*x2, p = 3.981312000000001e-07, parse trees = 1, valid = False\n",
      "-> C*x1*x2 + C, p = 0.00124416, parse trees = 1, valid = False\n",
      "-> C*x1**2, p = 0.0144, parse trees = 2, valid = False\n"
     ]
    }
   ],
   "source": [
    "symbols = {\"x\":['x1','x2'], \"start\":\"S\", \"const\":\"C\"}\n",
    "grammer = grammar_from_template(\"polynomial\",\n",
    "             {\"variables\":[\"'x1'\",\"'x2'\"],\n",
    "              \"p_vars\":[0.5, 0.5],\n",
    "              \"functions\":[\"'1.0*'\"],\n",
    "              \"p_S\":[0.4, 0.6], \n",
    "              \"p_T\":[0.4, 0.6],\n",
    "              \"p_R\":[0.6, 0.4],\n",
    "              \"p_F\":[0.5],\n",
    "             })   \n",
    "    \n",
    "models = generate_models(grammer, symbols, strategy_settings = {\"N\":10})\n",
    "print(models)"
   ]
  },
  {
   "cell_type": "code",
   "execution_count": null,
   "id": "dd705f3d",
   "metadata": {},
   "outputs": [],
   "source": []
  }
 ],
 "metadata": {
  "kernelspec": {
   "display_name": "Python 3",
   "language": "python",
   "name": "python3"
  },
  "language_info": {
   "codemirror_mode": {
    "name": "ipython",
    "version": 3
   },
   "file_extension": ".py",
   "mimetype": "text/x-python",
   "name": "python",
   "nbconvert_exporter": "python",
   "pygments_lexer": "ipython3",
   "version": "3.7.6"
  }
 },
 "nbformat": 4,
 "nbformat_minor": 5
}
