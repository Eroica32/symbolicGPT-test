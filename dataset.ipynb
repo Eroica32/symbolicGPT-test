{
 "cells": [
  {
   "cell_type": "code",
   "execution_count": 69,
   "metadata": {},
   "outputs": [],
   "source": [
    "from GenerateData import generate_random_eqn_raw, eqn_to_str, create_dataset_from_raw_eqn, simplify_formula\n",
    "import json\n",
    "import os"
   ]
  },
  {
   "cell_type": "code",
   "execution_count": 73,
   "metadata": {},
   "outputs": [],
   "source": [
    "# Config\n",
    "numVars = 2\n",
    "decimals = 2\n",
    "numSamples = 10 # number of generated samples\n",
    "folder = './Dataset'\n",
    "dataPath = folder +'/{}.json'"
   ]
  },
  {
   "cell_type": "code",
   "execution_count": 78,
   "metadata": {},
   "outputs": [
    {
     "name": "stdout",
     "output_type": "stream",
     "text": [
      "We do have the path already!\n"
     ]
    }
   ],
   "source": [
    "print(os.mkdir(folder) if not os.path.isdir(folder) else 'We do have the path already!')"
   ]
  },
  {
   "cell_type": "code",
   "execution_count": 79,
   "metadata": {},
   "outputs": [],
   "source": [
    "template = {'X':[], 'Y':0.0, 'EQ':''}"
   ]
  },
  {
   "cell_type": "code",
   "execution_count": 80,
   "metadata": {},
   "outputs": [],
   "source": [
    "fileID = 0\n",
    "for i in range(numSamples):\n",
    "    structure = template.copy()\n",
    "    \n",
    "    # generate a formula\n",
    "    # Create a new random equation\n",
    "    currEqn = generate_random_eqn_raw(n_vars=numVars)\n",
    "    cleanEqn = eqn_to_str(currEqn)\n",
    "    data = create_dataset_from_raw_eqn(currEqn, n_points=1, n_vars=numVars, decimals=decimals)\n",
    "    x,y = data[0]\n",
    "    \n",
    "    # hold data in the structure\n",
    "    structure['X'] = x\n",
    "    structure['Y'] = y\n",
    "    structure['EQ'] = cleanEqn\n",
    "    \n",
    "    outputPath = dataPath.format(fileID)\n",
    "    if os.path.exists(outputPath):\n",
    "        fileSize = os.path.getsize(outputPath)\n",
    "        if fileSize > 500000000: # 500 MB\n",
    "            fileID +=1 \n",
    "    with open(outputPath, \"a\", encoding=\"utf-8\") as h:\n",
    "        json.dump(structure, h, ensure_ascii=False)\n",
    "        h.write('\\n')"
   ]
  },
  {
   "cell_type": "code",
   "execution_count": null,
   "metadata": {},
   "outputs": [],
   "source": []
  }
 ],
 "metadata": {
  "kernelspec": {
   "display_name": "Python 3",
   "language": "python",
   "name": "python3"
  }
 },
 "nbformat": 4,
 "nbformat_minor": 4
}
