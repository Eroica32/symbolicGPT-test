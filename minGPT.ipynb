{
 "cells": [
  {
   "cell_type": "code",
   "execution_count": 1,
   "id": "gothic-adapter",
   "metadata": {},
   "outputs": [],
   "source": [
    "# set up logging\n",
    "import logging\n",
    "logging.basicConfig(\n",
    "        format=\"%(asctime)s - %(levelname)s - %(name)s -   %(message)s\",\n",
    "        datefmt=\"%m/%d/%Y %H:%M:%S\",\n",
    "        level=logging.INFO,\n",
    ")"
   ]
  },
  {
   "cell_type": "code",
   "execution_count": 2,
   "id": "pleased-humor",
   "metadata": {},
   "outputs": [],
   "source": [
    "# make deterministic\n",
    "from mingpt.utils import set_seed\n",
    "set_seed(42)"
   ]
  },
  {
   "cell_type": "code",
   "execution_count": 3,
   "id": "balanced-lecture",
   "metadata": {},
   "outputs": [],
   "source": [
    "import numpy as np\n",
    "import torch\n",
    "import torch.nn as nn\n",
    "from torch.nn import functional as F"
   ]
  },
  {
   "cell_type": "code",
   "execution_count": 4,
   "id": "simple-terry",
   "metadata": {},
   "outputs": [],
   "source": [
    "import math\n",
    "from torch.utils.data import Dataset"
   ]
  },
  {
   "cell_type": "code",
   "execution_count": 5,
   "id": "gothic-panic",
   "metadata": {},
   "outputs": [],
   "source": [
    "# config\n",
    "embeddingSize=512\n",
    "numPoints=30\n",
    "numVars=1\n",
    "numYs=1\n",
    "paddingToken='<PAD>'\n",
    "padId=0\n",
    "block_size = 50 # spatial extent of the model for its context"
   ]
  },
  {
   "cell_type": "code",
   "execution_count": 6,
   "id": "inner-headquarters",
   "metadata": {},
   "outputs": [],
   "source": [
    "class CharDataset(Dataset):\n",
    "\n",
    "    def __init__(self, data, block_size, extractAtt=False):\n",
    "        chars = sorted(list(set(data)))\n",
    "        data_size, vocab_size = len(data), len(chars)\n",
    "        print('data has %d characters, %d unique.' % (data_size, vocab_size))\n",
    "        \n",
    "        self.stoi = { ch:i for i,ch in enumerate([paddingToken]+chars) }\n",
    "        self.itos = { i:ch for i,ch in enumerate([paddingToken]+chars) }\n",
    "        self.block_size = block_size\n",
    "        self.vocab_size = vocab_size\n",
    "        self.data = data\n",
    "        self.attributes = extractAtt\n",
    "        self.threshold = [-1000,1000]\n",
    "        \n",
    "        if self.attributes:\n",
    "            self.dataList = self.data.split('\\n') #TODO: remove later?\n",
    "\n",
    "            self.blockIdx = []\n",
    "            summation = 0\n",
    "            for d in self.dataList:\n",
    "                s = summation\n",
    "                e = s + len(d)\n",
    "                self.blockIdx.append((s,e))\n",
    "                summation = e+1\n",
    "    \n",
    "    def __len__(self):\n",
    "        if self.attributes:\n",
    "            return len(self.dataList) - 1\n",
    "        else:\n",
    "            return len(self.data) - self.block_size\n",
    "\n",
    "    def __getitem__(self, idx):\n",
    "        # grab a chunk of (block_size + 1) characters from the data\n",
    "        #chunk = self.data[idx:idx + self.block_size + 1]\n",
    "        chunk = self.data[self.blockIdx[idx][0]:self.blockIdx[idx][1]]\n",
    "        \n",
    "        # extracts other attributes\n",
    "        points = None\n",
    "        if self.attributes:\n",
    "            dic = json.loads(chunk)\n",
    "            points = []\n",
    "            for xy in zip(dic['X'], dic['Y']):\n",
    "                x = xy[0] + [self.stoi[paddingToken]]*(max(numVars-len(xy[0]),0)) # padding\n",
    "                y = [xy[1]] if type(xy[1])== float else xy[1]\n",
    "                y = y + [self.stoi[paddingToken]]*(max(numYs-len(y),0)) # padding\n",
    "                \n",
    "                p = x + y #x.extend(y)\n",
    "                p = torch.tensor(p)\n",
    "                \n",
    "                #replace nan and inf\n",
    "                p = torch.nan_to_num(p, nan=0.0, \n",
    "                                     posinf=self.threshold[1], \n",
    "                                     neginf=self.threshold[0])\n",
    "\n",
    "                points.append(p)\n",
    "            chunk = '\"'+dic['EQ']+'\"'\n",
    "        \n",
    "        # encode every character to an integer\n",
    "        dix = [self.stoi[s] for i,s in enumerate(chunk) if i<self.block_size]\n",
    "        paddingSize = max(self.block_size-len(dix),0)\n",
    "        \n",
    "        mask = [1] + [1 for s in dix]\n",
    "        #dixX = dix + [self.stoi[paddingToken]]*paddingSize # padding\n",
    "        dix += [self.stoi[paddingToken]]*paddingSize # padding\n",
    "        mask += [0]*paddingSize\n",
    "        \n",
    "        inputs = torch.tensor(dix[:-1], dtype=torch.long).contiguous()\n",
    "        mask = torch.tensor(mask[:-1], dtype=torch.long).contiguous()\n",
    "        mask = mask.unsqueeze(0)\n",
    "        mask = mask.T @ mask\n",
    "        \n",
    "        \"\"\"\n",
    "        arrange data and targets so that the first i elements of x\n",
    "        will be asked to predict the i-th element of y. Notice that\n",
    "        the eventual language model will actually make block_size\n",
    "        individual predictions at the same time based on this data,\n",
    "        so we are being clever and amortizing the cost of the forward\n",
    "        pass of the network. So for example if block_size is 4, then\n",
    "        we could e.g. sample a chunk of text \"hello\", the integers in\n",
    "        x will correspond to \"hell\" and in y will be \"ello\". This will\n",
    "        then actually \"multitask\" 4 separate examples at the same time\n",
    "        in the language model:\n",
    "        - given just \"h\", please predict \"e\" as next\n",
    "        - given \"he\" please predict \"l\" next\n",
    "        - given \"hel\" predict \"l\" next\n",
    "        - given \"hell\" predict \"o\" next\n",
    "        \n",
    "        In addition, because the DataLoader will create batches of examples,\n",
    "        every forward/backward pass during traning will simultaneously train\n",
    "        a LOT of predictions, amortizing a lot of computation. In particular,\n",
    "        for a batched input of integers X (B, T) where B is batch size and\n",
    "        T is block_size and Y (B, T), the network will during training be\n",
    "        simultaneously training to make B*T predictions, all at once! Of course,\n",
    "        at test time we can paralellize across batch B, but unlike during training\n",
    "        we cannot parallelize across the time dimension T - we have to run\n",
    "        a forward pass of the network to recover the next single character of the \n",
    "        sequence along each batch dimension, and repeatedly always feed in a next\n",
    "        character to get the next one.\n",
    "        \n",
    "        So yes there is a big asymmetry between train/test time of autoregressive\n",
    "        models. During training we can go B*T at a time with every forward pass,\n",
    "        but during test time we can only go B at a time, T times, with T forward \n",
    "        passes.\n",
    "        \"\"\"        \n",
    "        \n",
    "        outputs = torch.tensor(dix[1:], dtype=torch.long).contiguous()\n",
    "        \n",
    "        #assert mask.shape==outputs.shape==inputs.shape, 'M:{}-O:{}-I:{}'.format(mask.shape,outputs.shape,inputs.shape)\n",
    "        assert len(mask) == self.block_size, 'Wrong mask shape: {}'.format(mask.shape)\n",
    "        assert len(inputs) == self.block_size-1, 'Wrong inputs shape: {}'.format(inputs.shape)\n",
    "        assert len(outputs) == self.block_size-1, 'Wrong y shape: {}'.format(outputs.shape)\n",
    "        assert len(points) == numPoints, 'Wrong #points: {}'.format(len(points))\n",
    "        \n",
    "        return inputs, outputs, points, mask"
   ]
  },
  {
   "cell_type": "code",
   "execution_count": 7,
   "id": "occupied-underground",
   "metadata": {},
   "outputs": [],
   "source": [
    "import json\n",
    "from tqdm import tqdm\n",
    "import glob\n",
    "def processDataFiles(files):\n",
    "    text = ''\"\"\n",
    "    for f in tqdm(files):\n",
    "        with open(f, 'r') as h: \n",
    "            lines = h.read() # don't worry we won't run out of file handles\n",
    "            text += lines #json.loads(line)                \n",
    "    return text"
   ]
  },
  {
   "cell_type": "code",
   "execution_count": 8,
   "id": "norwegian-mentor",
   "metadata": {},
   "outputs": [
    {
     "name": "stderr",
     "output_type": "stream",
     "text": [
      "100%|████████████████████████████████████████████████████████████████████████████████████| 1/1 [00:00<00:00,  1.45it/s]\n"
     ]
    }
   ],
   "source": [
    "path = 'D:\\Datasets\\Symbolic Dataset\\Datasets\\Mesh_Simple_GPT2_Sorted\\TrainDatasetFixed\\*.json'\n",
    "files = glob.glob(path)\n",
    "text = processDataFiles([files[0]])"
   ]
  },
  {
   "cell_type": "code",
   "execution_count": 9,
   "id": "dynamic-damage",
   "metadata": {},
   "outputs": [],
   "source": [
    "# avgBlockSize = 0\n",
    "# upNum = 100\n",
    "# for i in tqdm(range(0,upNum)):\n",
    "#     avgBlockSize += len(text.split('\\n')[i])\n",
    "# avgBlockSize /= upNum\n",
    "# print('avg block size is {}'.format(avgBlockSize))"
   ]
  },
  {
   "cell_type": "code",
   "execution_count": 10,
   "id": "military-remedy",
   "metadata": {},
   "outputs": [
    {
     "name": "stdout",
     "output_type": "stream",
     "text": [
      "data has 243072217 characters, 43 unique.\n"
     ]
    }
   ],
   "source": [
    "train_dataset = CharDataset(text, block_size, extractAtt=True) # one line of poem is roughly 50 characters"
   ]
  },
  {
   "cell_type": "code",
   "execution_count": 11,
   "id": "experimental-bailey",
   "metadata": {},
   "outputs": [
    {
     "name": "stdout",
     "output_type": "stream",
     "text": [
      "XS:torch.Size([49])\n",
      "MS:torch.Size([50, 50])\n",
      "yS:torch.Size([49])\n",
      "PointsS:30\n",
      "X:tensor([ 3, 39, 37, 38, 40,  4, 41, 13,  5,  7, 12, 10, 21, 20,  6, 39, 37, 38,\n",
      "        40,  4,  9, 41, 13,  5,  3,  0,  0,  0,  0,  0,  0,  0,  0,  0,  0,  0,\n",
      "         0,  0,  0,  0,  0,  0,  0,  0,  0,  0,  0,  0,  0])\n",
      "M:tensor([[1, 1, 1,  ..., 0, 0, 0],\n",
      "        [1, 1, 1,  ..., 0, 0, 0],\n",
      "        [1, 1, 1,  ..., 0, 0, 0],\n",
      "        ...,\n",
      "        [0, 0, 0,  ..., 0, 0, 0],\n",
      "        [0, 0, 0,  ..., 0, 0, 0],\n",
      "        [0, 0, 0,  ..., 0, 0, 0]])\n",
      "y:tensor([39, 37, 38, 40,  4, 41, 13,  5,  7, 12, 10, 21, 20,  6, 39, 37, 38, 40,\n",
      "         4,  9, 41, 13,  5,  3,  0,  0,  0,  0,  0,  0,  0,  0,  0,  0,  0,  0,\n",
      "         0,  0,  0,  0,  0,  0,  0,  0,  0,  0,  0,  0,  0])\n",
      "Points:[tensor([0., 0.]), tensor([0.1000, 0.6300]), tensor([0.2100, 0.9100]), tensor([0.3100, 1.1000]), tensor([0.4100, 1.2700]), tensor([0.5200, 1.4300]), tensor([0.6200, 1.5600]), tensor([0.7200, 1.6800]), tensor([0.8300, 1.8000]), tensor([0.9300, 1.9100]), tensor([1.0300, 2.0100]), tensor([1.1400, 2.1100]), tensor([1.2400, 2.2000]), tensor([1.3400, 2.2900]), tensor([1.4500, 2.3800]), tensor([1.5500, 2.4600]), tensor([1.6600, 2.5500]), tensor([1.7600, 2.6200]), tensor([1.8600, 2.7000]), tensor([1.9700, 2.7800]), tensor([2.0700, 2.8400]), tensor([2.1700, 2.9100]), tensor([2.2800, 2.9900]), tensor([2.3800, 3.0500]), tensor([2.4800, 3.1100]), tensor([2.5900, 3.1800]), tensor([2.6900, 3.2400]), tensor([2.7900, 3.3000]), tensor([2.9000, 3.3700]), tensor([3.0000, 3.4200])]\n"
     ]
    }
   ],
   "source": [
    "idx = np.random.randint(train_dataset.__len__())\n",
    "sample = train_dataset.__getitem__(idx)\n",
    "x,y,p,m = sample\n",
    "print('XS:{}\\nMS:{}\\nyS:{}\\nPointsS:{}'.format(x.shape,m.shape,y.shape,len(p)))\n",
    "print('X:{}\\nM:{}\\ny:{}\\nPoints:{}'.format(x,m,y,p))"
   ]
  },
  {
   "cell_type": "code",
   "execution_count": 12,
   "id": "strategic-rugby",
   "metadata": {},
   "outputs": [
    {
     "name": "stderr",
     "output_type": "stream",
     "text": [
      "100%|███████████████████████████████████████████████████████████████████████████████████| 1/1 [00:00<00:00, 501.23it/s]"
     ]
    },
    {
     "name": "stdout",
     "output_type": "stream",
     "text": [
      "data has 901208 characters, 43 unique.\n"
     ]
    },
    {
     "name": "stderr",
     "output_type": "stream",
     "text": [
      "\n"
     ]
    }
   ],
   "source": [
    "path = 'D:\\Datasets\\Symbolic Dataset\\Datasets\\Mesh_Simple_GPT2_Sorted\\TestDataset\\*.json'\n",
    "files = glob.glob(path)\n",
    "textTest = processDataFiles([files[0]])\n",
    "test_dataset = CharDataset(textTest, block_size, extractAtt=True)"
   ]
  },
  {
   "cell_type": "code",
   "execution_count": 13,
   "id": "floral-basic",
   "metadata": {},
   "outputs": [
    {
     "name": "stderr",
     "output_type": "stream",
     "text": [
      "05/11/2021 23:09:29 - INFO - mingpt.model -   number of parameters: 2.528973e+07\n"
     ]
    }
   ],
   "source": [
    "from mingpt.model import GPT, GPTConfig, PointNetConfig\n",
    "pconf = PointNetConfig(embeddingSize=embeddingSize, \n",
    "                       numberofPoints=numPoints, \n",
    "                       numberofVars=numVars, \n",
    "                       numberofYs=numYs)\n",
    "mconf = GPTConfig(train_dataset.vocab_size, train_dataset.block_size-1,\n",
    "                  n_layer=8, n_head=8, n_embd=embeddingSize, grad_norm_clip=1.0,\n",
    "                  padToken=paddingToken, padId=padId)\n",
    "model = GPT(mconf, pconf)"
   ]
  },
  {
   "cell_type": "code",
   "execution_count": 14,
   "id": "diagnostic-feedback",
   "metadata": {},
   "outputs": [
    {
     "data": {
      "text/plain": [
       "True"
      ]
     },
     "execution_count": 14,
     "metadata": {},
     "output_type": "execute_result"
    }
   ],
   "source": [
    "torch.cuda.is_available()"
   ]
  },
  {
   "cell_type": "code",
   "execution_count": null,
   "id": "automated-agent",
   "metadata": {},
   "outputs": [
    {
     "name": "stderr",
     "output_type": "stream",
     "text": [
      "epoch 1 iter 143: train loss 3.88970. lr 5.923447e-04:  15%|███▋                     | 144/977 [01:39<09:36,  1.45it/s]"
     ]
    }
   ],
   "source": [
    "from mingpt.trainer import Trainer, TrainerConfig\n",
    "\n",
    "# initialize a trainer instance and kick off training\n",
    "tconf = TrainerConfig(max_epochs=20, batch_size=512, learning_rate=6e-4,\n",
    "                      lr_decay=True, warmup_tokens=512*20, final_tokens=2*len(train_dataset)*block_size,\n",
    "                      num_workers=0)\n",
    "trainer = Trainer(model, train_dataset, test_dataset, tconf)\n",
    "\n",
    "try:\n",
    "    trainer.train()\n",
    "except KeyboardInterrupt:\n",
    "    print('KeyboardInterrupt')"
   ]
  },
  {
   "cell_type": "code",
   "execution_count": null,
   "id": "accredited-library",
   "metadata": {},
   "outputs": [],
   "source": [
    "# add a safe wrapper for numpy math functions\n",
    "from numpy import *\n",
    "import numpy as np\n",
    "\n",
    "def divide(x, y):\n",
    "  x = np.nan_to_num(x)\n",
    "  y = np.nan_to_num(y)\n",
    "  return np.divide(x,y+1e-5)\n",
    "\n",
    "def sqrt(x):\n",
    "  x = np.nan_to_num(x)\n",
    "  return np.sqrt(np.abs(x)) \n",
    "\n",
    "# Mean square error\n",
    "def mse(y, y_hat):\n",
    "    y_hat = np.reshape(y_hat, [1, -1])[0]\n",
    "    y_gold = np.reshape(y, [1, -1])[0]\n",
    "    our_sum = 0\n",
    "    for i in range(len(y_gold)):\n",
    "        our_sum += (y_hat[i] - y_gold[i]) ** 2\n",
    "\n",
    "    return our_sum / len(y_gold)"
   ]
  },
  {
   "cell_type": "code",
   "execution_count": null,
   "id": "incomplete-comparison",
   "metadata": {},
   "outputs": [],
   "source": [
    "# alright, let's sample some character-level symbolic GPT\n",
    "from mingpt.utils import sample\n",
    "#from gp_model import Genetic_Model\n",
    "#from mlp_model import MLP_Model\n",
    "    \n",
    "loader = torch.utils.data.DataLoader(\n",
    "                                test_dataset, \n",
    "                                shuffle=False, \n",
    "                                pin_memory=True,\n",
    "                                batch_size=1,\n",
    "                                num_workers=0)\n",
    "\n",
    "testRange = [3.1,6.0]\n",
    "numTestPoints = 10\n",
    "#test = np.linspace(3.1,6.0,numTestPoints)\n",
    "\n",
    "# gpm = Genetic_Model(n_jobs=-1)\n",
    "# mlp = MLP_Model()\n",
    "    \n",
    "fName = 'res.txt'\n",
    "resultDict = {}\n",
    "with open(fName, 'w', encoding=\"utf-8\") as o:\n",
    "    textTestList = textTest.split('\\n')\n",
    "    modelName = 'SymbolicGPT'\n",
    "    resultDict[fName] = {modelName:[]}\n",
    "    \n",
    "    for i, (x,y,p,m) in enumerate(loader):\n",
    "        \n",
    "        print('Test Case {}.'.format(i))\n",
    "        o.write('Test Case {}/{}.'.format(i,len(textTestList)))\n",
    "        \n",
    "        t = json.loads(textTestList[i])\n",
    "        x = x[:,0:1].to(trainer.device)\n",
    "        p = [e.to(trainer.device) for e in p]\n",
    "        yHat = sample(model, x, 50, points=p, \n",
    "                      temperature=1.0, sample=True, \n",
    "                      top_k=10)[0]\n",
    "        \n",
    "        target = ''.join([train_dataset.itos[int(i)] for i in y[0]]).strip('\"')\n",
    "        target = target.strip(paddingToken)\n",
    "        o.write('{}'.format(target))\n",
    "        \n",
    "        predicted = ''.join([train_dataset.itos[int(i)] for i in yHat])\n",
    "        # filter out predicted\n",
    "        predicted = predicted.split('\"')[1]\n",
    "        predicted = predicted.strip(paddingToken)\n",
    "        \n",
    "        print('Target:{}\\nPredicted:{}'.format(target, predicted))\n",
    "        \n",
    "        Ys = [] #t['YT']\n",
    "        Yhats = []\n",
    "        for xs in t['XT']:\n",
    "            try:\n",
    "                eqTmp = target + '' # copy eq\n",
    "                eqTmp = eqTmp.replace(' ','')\n",
    "                eqTmp = eqTmp.replace('\\n','')\n",
    "                for i,x in enumerate(xs):\n",
    "                    # replace xi with the value in the eq\n",
    "                    eqTmp = eqTmp.replace('x{}'.format(i+1), str(x))\n",
    "                    if ',' in eqTmp:\n",
    "                        assert 'There is a , in the equation!'\n",
    "                YEval = eval(eqTmp)\n",
    "                YEval = 0 if np.isnan(YEval) else YEval\n",
    "                YEval = 10000 if np.isinf(YEval) else YEval\n",
    "            except:\n",
    "                YEval = 0\n",
    "            Ys.append(YEval)\n",
    "            try:\n",
    "                eqTmp = predicted + '' # copy eq\n",
    "                eqTmp = eqTmp.replace(' ','')\n",
    "                eqTmp = eqTmp.replace('\\n','')\n",
    "                for i,x in enumerate(xs):\n",
    "                    # replace xi with the value in the eq\n",
    "                    eqTmp = eqTmp.replace('x{}'.format(i+1), str(x))\n",
    "                    if ',' in eqTmp:\n",
    "                        assert 'There is a , in the equation!'\n",
    "                Yhat = eval(eqTmp)\n",
    "                Yhat = 0 if np.isnan(Yhat) else Yhat\n",
    "                Yhat = 10000 if np.isinf(Yhat) else Yhat\n",
    "            except:\n",
    "                Yhat = 0\n",
    "            Yhats.append(Yhat)\n",
    "        mseErr = mse(Ys,Yhats)\n",
    "        \n",
    "        if type(mseErr) is np.complex128:\n",
    "            mseErr = mseErr.real\n",
    "        elif mseErr < 0.00005:\n",
    "            mseErr = 0\n",
    "            \n",
    "        resultDict[fName][modelName].append(mseErr)\n",
    "        \n",
    "        o.write('{}:{}\\n{}'.format(modelName, \n",
    "                               mseErr,\n",
    "                               predicted))\n",
    "        \n",
    "        print('MSE:{}\\n'.format(mseErr))"
   ]
  },
  {
   "cell_type": "code",
   "execution_count": null,
   "id": "subject-subsection",
   "metadata": {},
   "outputs": [],
   "source": [
    "# plot the error frequency for model comparison\n",
    "from matplotlib import pyplot as plt\n",
    "num_eqns = len(resultDict[fName]['SymbolicGPT'])\n",
    "num_vars = pconf.numberofVars\n",
    "\n",
    "models = list(resultDict[fName].keys())\n",
    "lists_of_error_scores = [resultDict[fName][key] for key in models]\n",
    "linestyles = [\"-\",\"dashdot\",\"dotted\",\"--\"]\n",
    "\n",
    "eps = 0.00001\n",
    "y, x, _ = plt.hist([np.log([x+eps for x in e]) for e in lists_of_error_scores],\n",
    "                   label=models,\n",
    "                   cumulative=True, \n",
    "                   histtype=\"step\", \n",
    "                   bins=2000, \n",
    "                   density=\"true\")\n",
    "y = np.expand_dims(y,0)\n",
    "plt.figure(figsize=(15, 10))\n",
    "\n",
    "for idx, model in enumerate(models): \n",
    "    plt.plot(x[:-1], \n",
    "           y[idx] * 100, \n",
    "           linestyle=linestyles[idx], \n",
    "           label=model)\n",
    "\n",
    "plt.legend(loc=\"upper left\")\n",
    "plt.title(\"{} equations of {} variables\".format(num_eqns, num_vars))\n",
    "plt.xlabel(\"Log of Mean Square Error\")\n",
    "plt.ylabel(\"Normalized Cumulative Frequency\")\n",
    "\n",
    "name = '{}.png'.format('results')\n",
    "plt.savefig(name)"
   ]
  },
  {
   "cell_type": "code",
   "execution_count": null,
   "id": "juvenile-checklist",
   "metadata": {},
   "outputs": [],
   "source": []
  }
 ],
 "metadata": {
  "kernelspec": {
   "display_name": "Python 3",
   "language": "python",
   "name": "python3"
  },
  "language_info": {
   "codemirror_mode": {
    "name": "ipython",
    "version": 3
   },
   "file_extension": ".py",
   "mimetype": "text/x-python",
   "name": "python",
   "nbconvert_exporter": "python",
   "pygments_lexer": "ipython3",
   "version": "3.7.6"
  }
 },
 "nbformat": 4,
 "nbformat_minor": 5
}
