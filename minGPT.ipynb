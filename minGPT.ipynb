{
 "cells": [
  {
   "cell_type": "code",
   "execution_count": 1,
   "id": "434b50dc",
   "metadata": {},
   "outputs": [],
   "source": [
    "# set up logging\n",
    "import logging\n",
    "logging.basicConfig(\n",
    "        format=\"%(asctime)s - %(levelname)s - %(name)s -   %(message)s\",\n",
    "        datefmt=\"%m/%d/%Y %H:%M:%S\",\n",
    "        level=logging.INFO,\n",
    ")"
   ]
  },
  {
   "cell_type": "code",
   "execution_count": 2,
   "id": "46b83138",
   "metadata": {},
   "outputs": [],
   "source": [
    "# make deterministic\n",
    "from mingpt.utils import set_seed\n",
    "set_seed(42)"
   ]
  },
  {
   "cell_type": "code",
   "execution_count": 3,
   "id": "f4b083b6",
   "metadata": {},
   "outputs": [],
   "source": [
    "import numpy as np\n",
    "import torch\n",
    "import torch.nn as nn\n",
    "from torch.nn import functional as F"
   ]
  },
  {
   "cell_type": "code",
   "execution_count": 4,
   "id": "dfc4cf4c",
   "metadata": {},
   "outputs": [],
   "source": [
    "import math\n",
    "from torch.utils.data import Dataset"
   ]
  },
  {
   "cell_type": "code",
   "execution_count": 5,
   "id": "3ac99af8",
   "metadata": {},
   "outputs": [],
   "source": [
    "# config\n",
    "embeddingSize=504\n",
    "numPoints=30\n",
    "numVars=1\n",
    "numYs=1\n",
    "paddingToken='P'\n",
    "padId=0\n",
    "block_size = 60 # spatial extent of the model for its context\n",
    "batchSize = 256 if block_size < 100 else 16\n",
    "pointsAsList = False\n",
    "padding = True\n",
    "method = 'outputConcat' # GPT/FirstToken/Summation/Concat/outputConcat/outputSummation\n",
    "extractAttributes = True # use the pointNET if it is true\n",
    "extractAttributes = False if method=='GPT' else extractAttributes\n",
    "dataInfo = 'Mesh_XYSorted'"
   ]
  },
  {
   "cell_type": "code",
   "execution_count": 6,
   "id": "29245fca",
   "metadata": {},
   "outputs": [],
   "source": [
    "class CharDataset(Dataset):\n",
    "\n",
    "    def __init__(self, data, files=None, block_size=50, extractAtt=False, \n",
    "                 chars=None, stoi=None, itos=None, testTime=False,\n",
    "                 pointsAsList=False, padding=False):\n",
    "        self.chars = sorted(list(set(data))+['T','<','>']) if chars==None else chars\n",
    "        data_size = len(data)\n",
    "        print('data has %d characters, %d unique.' % (data_size, len(self.chars)))\n",
    "        \n",
    "        self.stoi = { ch:i for i,ch in enumerate([paddingToken]+self.chars if extractAtt else self.chars) } if stoi==None else stoi\n",
    "        self.itos = { i:ch for ch,i in self.stoi.items() } if itos==None else itos\n",
    "        self.block_size = block_size\n",
    "        self.vocab_size = len(self.stoi)\n",
    "        \n",
    "        self.files = files\n",
    "#         if self.files == None:\n",
    "        self.data = data # this is memory expensive\n",
    "        \n",
    "        self.attributes = extractAtt\n",
    "        self.threshold = [-1000,1000]\n",
    "        self.testTime = testTime\n",
    "        self.pointsAsList = pointsAsList\n",
    "        self.padding = padding\n",
    "        \n",
    "        if self.attributes or self.testTime:\n",
    "            self.dataList = self.data.split('\\n') #TODO: remove later?\n",
    "\n",
    "            self.blockIdx = []\n",
    "            summation = 0\n",
    "            for d in self.dataList:\n",
    "                s = summation\n",
    "                e = s + len(d)\n",
    "                self.blockIdx.append((s,e))\n",
    "                summation = e+1\n",
    "    \n",
    "    def __len__(self):\n",
    "        if self.attributes or self.testTime:\n",
    "            return len(self.dataList) - 1\n",
    "        else:\n",
    "            return len(self.data) - self.block_size\n",
    "\n",
    "    def __getitem__(self, idx):\n",
    "        # grab a chunk of (block_size + 1) characters from the data\n",
    "        #chunk = self.data[idx:idx + self.block_size + 1]\n",
    "        if not self.attributes:\n",
    "            if self.testTime:\n",
    "                chunk = self.data[self.blockIdx[idx][0]:self.blockIdx[idx][1]]\n",
    "            else:\n",
    "                chunk = self.data[idx:idx + self.block_size + 1]\n",
    "                \n",
    "            dix = [self.stoi[s] for i,s in enumerate(chunk)]\n",
    "            inputs = torch.tensor(dix[:-1], dtype=torch.long).contiguous()\n",
    "            outputs = torch.tensor(dix[1:], dtype=torch.long).contiguous()\n",
    "            return inputs, outputs\n",
    "        else:\n",
    "            chunk = self.data[self.blockIdx[idx][0]:self.blockIdx[idx][1]]\n",
    "        \n",
    "            # extracts other attributes\n",
    "            points = None\n",
    "            if self.attributes:\n",
    "                dic = json.loads(chunk)\n",
    "\n",
    "                if self.pointsAsList:\n",
    "                    points = []\n",
    "                else:\n",
    "                    points = torch.zeros(numVars+numYs, numPoints)\n",
    "                    \n",
    "                for idx, xy in enumerate(zip(dic['X'], dic['Y'])):\n",
    "                    x = xy[0] + [self.stoi[paddingToken]]*(max(numVars-len(xy[0]),0)) # padding\n",
    "                    y = [xy[1]] if type(xy[1])== float else xy[1]\n",
    "                    y = y + [self.stoi[paddingToken]]*(max(numYs-len(y),0)) # padding\n",
    "                    \n",
    "                    #print('x:{},y:{}\\n'.format(x,y))\n",
    "\n",
    "                    p = x+y # because it is only one point \n",
    "                    p = torch.tensor(p)\n",
    "\n",
    "                    #replace nan and inf\n",
    "                    p = torch.nan_to_num(p, nan=0.0, \n",
    "                                         posinf=self.threshold[1], \n",
    "                                         neginf=self.threshold[0])\n",
    "                    \n",
    "                    if self.pointsAsList:\n",
    "                        points.append(p)\n",
    "                    else:\n",
    "                        points[:,idx] = p\n",
    "                        \n",
    "                chunk = '<'+dic['EQ']+'>'\n",
    "\n",
    "            # encode every character to an integer\n",
    "            dix = [self.stoi[s] for i,s in enumerate(chunk) if i<self.block_size]\n",
    "            dixInput = dix[:-1]\n",
    "            dixOutput = dix[1:]\n",
    "            \n",
    "           \n",
    "            if self.padding:\n",
    "                paddingSize = max(self.block_size-len(dixInput),0)\n",
    "                paddingList = [self.stoi[paddingToken]]*paddingSize\n",
    "                dixInput += paddingList # padding\n",
    "                dixOutput += paddingList # padding\n",
    "            else:\n",
    "                paddingSize = max(self.block_size-len(dixInput),0)\n",
    "                # instead of padding use the same tokens repetitive\n",
    "                dixInput += dixInput * (int(paddingSize/len(dixInput))+1) \n",
    "                dixOutput += dixOutput * (int(paddingSize/len(dixOutput))+1) \n",
    "                \n",
    "            dixInput = dixInput[:self.block_size-1] # make sure the size is correct\n",
    "            dixOutput = dixOutput[:self.block_size-1] # make sure the size is correct\n",
    "                \n",
    "            outputs = torch.tensor(dixOutput, dtype=torch.long).contiguous()\n",
    "            inputs = torch.tensor(dixInput, dtype=torch.long).contiguous()\n",
    "\n",
    "            mask = [1 for s in dix]\n",
    "            mask += [0]*paddingSize\n",
    "\n",
    "            mask = torch.tensor(mask[:-1], dtype=torch.long).contiguous()\n",
    "            mask = mask.unsqueeze(0)\n",
    "            mask = mask.T @ mask\n",
    "            #mask = mask.T # transpose the output mask\n",
    "\n",
    "            assert len(mask) == self.block_size, 'Wrong mask shape: {}'.format(mask.shape)\n",
    "            assert len(inputs) == self.block_size-1, 'Wrong inputs shape: {}'.format(inputs.shape)\n",
    "            assert len(outputs) == self.block_size-1, 'Wrong y shape: {}'.format(outputs.shape)\n",
    "\n",
    "            return inputs, outputs, points, mask"
   ]
  },
  {
   "cell_type": "code",
   "execution_count": 7,
   "id": "be830776",
   "metadata": {},
   "outputs": [],
   "source": [
    "import json\n",
    "from tqdm import tqdm\n",
    "import glob\n",
    "def processDataFiles(files):\n",
    "    text = ''\"\"\n",
    "    for f in tqdm(files):\n",
    "        with open(f, 'r') as h: \n",
    "            lines = h.read() # don't worry we won't run out of file handles\n",
    "            text += lines #json.loads(line)                \n",
    "    return text"
   ]
  },
  {
   "cell_type": "code",
   "execution_count": 8,
   "id": "6b3513f2",
   "metadata": {},
   "outputs": [
    {
     "name": "stderr",
     "output_type": "stream",
     "text": [
      "100%|██████████████████████████████████████████████████████████████████████████████████| 10/10 [00:10<00:00,  1.00s/it]\n"
     ]
    }
   ],
   "source": [
    "path = 'D:\\Datasets\\Symbolic Dataset\\Datasets\\Mesh_Simple_GPT2_Sorted\\TrainDatasetFixed\\*.json'\n",
    "files = glob.glob(path)\n",
    "text = processDataFiles(files[:3 if block_size>60 else 10]) #[files[0]])"
   ]
  },
  {
   "cell_type": "code",
   "execution_count": 9,
   "id": "20d694f2",
   "metadata": {},
   "outputs": [],
   "source": [
    "# avgBlockSize = 0\n",
    "# upNum = 100\n",
    "# for i in tqdm(range(0,upNum)):\n",
    "#     avgBlockSize += len(text.split('\\n')[i])\n",
    "# avgBlockSize /= upNum\n",
    "# print('avg block size is {}'.format(avgBlockSize))"
   ]
  },
  {
   "cell_type": "code",
   "execution_count": 10,
   "id": "261dc732",
   "metadata": {},
   "outputs": [
    {
     "name": "stdout",
     "output_type": "stream",
     "text": [
      "data has 2430722170 characters, 46 unique.\n"
     ]
    }
   ],
   "source": [
    "train_dataset = CharDataset(text, files, block_size, extractAtt=extractAttributes, pointsAsList=pointsAsList, padding=padding) "
   ]
  },
  {
   "cell_type": "code",
   "execution_count": 11,
   "id": "f462cc88",
   "metadata": {
    "scrolled": false
   },
   "outputs": [
    {
     "name": "stdout",
     "output_type": "stream",
     "text": [
      "X:tensor([23,  9, 42, 35, 38,  4, 42, 35, 38,  4, 12, 10, 14,  6, 44, 13,  5,  5,\n",
      "         0,  0,  0,  0,  0,  0,  0,  0,  0,  0,  0,  0,  0,  0,  0,  0,  0,  0,\n",
      "         0,  0,  0,  0,  0,  0,  0,  0,  0,  0,  0,  0,  0,  0,  0,  0,  0,  0,\n",
      "         0,  0,  0,  0,  0])\n",
      "M:tensor([[1, 1, 1,  ..., 0, 0, 0],\n",
      "        [1, 1, 1,  ..., 0, 0, 0],\n",
      "        [1, 1, 1,  ..., 0, 0, 0],\n",
      "        ...,\n",
      "        [0, 0, 0,  ..., 0, 0, 0],\n",
      "        [0, 0, 0,  ..., 0, 0, 0],\n",
      "        [0, 0, 0,  ..., 0, 0, 0]])\n",
      "y:tensor([ 9, 42, 35, 38,  4, 42, 35, 38,  4, 12, 10, 14,  6, 44, 13,  5,  5, 24,\n",
      "         0,  0,  0,  0,  0,  0,  0,  0,  0,  0,  0,  0,  0,  0,  0,  0,  0,  0,\n",
      "         0,  0,  0,  0,  0,  0,  0,  0,  0,  0,  0,  0,  0,  0,  0,  0,  0,  0,\n",
      "         0,  0,  0,  0,  0])\n",
      "Points:tensor([[ 3.0000,  2.9000,  2.7900,  2.6900,  2.5900,  2.4800,  2.3800,  2.2800,\n",
      "          2.1700,  2.0700,  1.9700,  1.8600,  1.7600,  1.6600,  1.5500,  1.4500,\n",
      "          1.3400,  1.2400,  1.1400,  1.0300,  0.9300,  0.8300,  0.7200,  0.6200,\n",
      "          0.5200,  0.4100,  0.3100,  0.2100,  0.1000,  0.0000],\n",
      "        [-0.5300, -0.5100, -0.5000, -0.4800, -0.4700, -0.4500, -0.4300, -0.4200,\n",
      "         -0.4000, -0.3800, -0.3700, -0.3500, -0.3300, -0.3100, -0.2900, -0.2800,\n",
      "         -0.2600, -0.2400, -0.2200, -0.2000, -0.1800, -0.1600, -0.1400, -0.1200,\n",
      "         -0.1000, -0.0800, -0.0600, -0.0400, -0.0200,  0.0000]])\n",
      "torch.Size([2, 30])\n",
      "x:<-sin(sin(0.2*x1))PPPPPPPPPPPPPPPPPPPPPPPPPPPPPPPPPPPPPPPPP\n",
      "\n",
      "y:-sin(sin(0.2*x1))>PPPPPPPPPPPPPPPPPPPPPPPPPPPPPPPPPPPPPPPPP\n"
     ]
    }
   ],
   "source": [
    "idx = np.random.randint(min(train_dataset.__len__(),1000))\n",
    "sample = train_dataset.__getitem__(idx)\n",
    "batch = sample\n",
    "if extractAttributes:\n",
    "    x,y,p,m = batch\n",
    "    #print('XS:{}\\nMS:{}\\nyS:{}\\nPointsS:{}'.format(x.shape,m.shape,y.shape,len(p)))\n",
    "    print('X:{}\\nM:{}\\ny:{}\\nPoints:{}'.format(x,m,y,p))\n",
    "    print(p.shape)\n",
    "else:\n",
    "    x,y = batch\n",
    "    print('X:{}\\ny:{}\\n'.format(x,y))\n",
    "    \n",
    "xc = ''.join([train_dataset.itos[int(i)] for i in x])#.strip('\"')\n",
    "yc = ''.join([train_dataset.itos[int(i)] for i in y])#.strip('\"')\n",
    "print('x:{}\\n\\ny:{}'.format(xc,yc))"
   ]
  },
  {
   "cell_type": "code",
   "execution_count": 12,
   "id": "88667a8f",
   "metadata": {},
   "outputs": [
    {
     "name": "stderr",
     "output_type": "stream",
     "text": [
      "100%|███████████████████████████████████████████████████████████████████████████████████| 1/1 [00:00<00:00, 334.13it/s]"
     ]
    },
    {
     "name": "stdout",
     "output_type": "stream",
     "text": [
      "data has 901208 characters, 46 unique.\n"
     ]
    },
    {
     "name": "stderr",
     "output_type": "stream",
     "text": [
      "\n"
     ]
    }
   ],
   "source": [
    "path = 'D:\\Datasets\\Symbolic Dataset\\Datasets\\Mesh_Simple_GPT2_Sorted\\TestDataset\\*.json'\n",
    "files = glob.glob(path)\n",
    "textTest = processDataFiles([files[0]])\n",
    "test_dataset = CharDataset(textTest, block_size, extractAtt=extractAttributes,\n",
    "                           testTime=True,\n",
    "                           chars=train_dataset.chars, stoi=train_dataset.stoi, \n",
    "                           itos=train_dataset.itos,\n",
    "                           pointsAsList=pointsAsList, padding=padding)"
   ]
  },
  {
   "cell_type": "code",
   "execution_count": 13,
   "id": "10e5fe14",
   "metadata": {},
   "outputs": [
    {
     "name": "stdout",
     "output_type": "stream",
     "text": [
      "47 47\n"
     ]
    }
   ],
   "source": [
    "print(train_dataset.vocab_size, test_dataset.vocab_size)"
   ]
  },
  {
   "cell_type": "code",
   "execution_count": 14,
   "id": "19406602",
   "metadata": {},
   "outputs": [
    {
     "data": {
      "text/plain": [
       "True"
      ]
     },
     "execution_count": 14,
     "metadata": {},
     "output_type": "execute_result"
    }
   ],
   "source": [
    "torch.cuda.is_available()"
   ]
  },
  {
   "cell_type": "code",
   "execution_count": 15,
   "id": "9f814baa",
   "metadata": {},
   "outputs": [
    {
     "name": "stderr",
     "output_type": "stream",
     "text": [
      "05/18/2021 23:28:25 - INFO - mingpt.model -   number of parameters: 2.961353e+07\n"
     ]
    }
   ],
   "source": [
    "from mingpt.model import GPT, GPTConfig, PointNetConfig\n",
    "pconf = PointNetConfig(embeddingSize=embeddingSize, \n",
    "                       numberofPoints=numPoints, \n",
    "                       numberofVars=numVars, \n",
    "                       numberofYs=numYs,\n",
    "                       method=method)\n",
    "mconf = GPTConfig(train_dataset.vocab_size, train_dataset.block_size-1 if extractAttributes else train_dataset.block_size,\n",
    "                  n_layer=8, n_head=12, n_embd=embeddingSize, grad_norm_clip=1.0,\n",
    "                  padToken=paddingToken, padId=padId)\n",
    "model = GPT(mconf, pconf) if extractAttributes else GPT(mconf)"
   ]
  },
  {
   "cell_type": "code",
   "execution_count": 16,
   "id": "f4b54994",
   "metadata": {},
   "outputs": [
    {
     "data": {
      "text/plain": [
       "GPT(\n",
       "  (pointNet): TNet(\n",
       "    (conv1): Conv1d(2, 504, kernel_size=(1,), stride=(1,))\n",
       "    (conv2): Conv1d(504, 1008, kernel_size=(1,), stride=(1,))\n",
       "    (conv3): Conv1d(1008, 2016, kernel_size=(1,), stride=(1,))\n",
       "    (fc1): Linear(in_features=2016, out_features=1008, bias=True)\n",
       "    (fc2): Linear(in_features=1008, out_features=504, bias=True)\n",
       "    (input_batch_norm): BatchNorm1d(2, eps=1e-05, momentum=0.1, affine=True, track_running_stats=True)\n",
       "    (bn1): BatchNorm1d(504, eps=1e-05, momentum=0.1, affine=True, track_running_stats=True)\n",
       "    (bn2): BatchNorm1d(1008, eps=1e-05, momentum=0.1, affine=True, track_running_stats=True)\n",
       "    (bn3): BatchNorm1d(2016, eps=1e-05, momentum=0.1, affine=True, track_running_stats=True)\n",
       "    (bn4): BatchNorm1d(1008, eps=1e-05, momentum=0.1, affine=True, track_running_stats=True)\n",
       "    (bn5): BatchNorm1d(504, eps=1e-05, momentum=0.1, affine=True, track_running_stats=True)\n",
       "  )\n",
       "  (tok_emb): Embedding(47, 504)\n",
       "  (drop): Dropout(p=0.1, inplace=False)\n",
       "  (blocks): Sequential(\n",
       "    (0): Block(\n",
       "      (ln1): LayerNorm((504,), eps=1e-05, elementwise_affine=True)\n",
       "      (ln2): LayerNorm((504,), eps=1e-05, elementwise_affine=True)\n",
       "      (attn): CausalSelfAttention(\n",
       "        (key): Linear(in_features=504, out_features=504, bias=True)\n",
       "        (query): Linear(in_features=504, out_features=504, bias=True)\n",
       "        (value): Linear(in_features=504, out_features=504, bias=True)\n",
       "        (attn_drop): Dropout(p=0.1, inplace=False)\n",
       "        (resid_drop): Dropout(p=0.1, inplace=False)\n",
       "        (proj): Linear(in_features=504, out_features=504, bias=True)\n",
       "      )\n",
       "      (mlp): Sequential(\n",
       "        (0): Linear(in_features=504, out_features=2016, bias=True)\n",
       "        (1): GELU()\n",
       "        (2): Linear(in_features=2016, out_features=504, bias=True)\n",
       "        (3): Dropout(p=0.1, inplace=False)\n",
       "      )\n",
       "    )\n",
       "    (1): Block(\n",
       "      (ln1): LayerNorm((504,), eps=1e-05, elementwise_affine=True)\n",
       "      (ln2): LayerNorm((504,), eps=1e-05, elementwise_affine=True)\n",
       "      (attn): CausalSelfAttention(\n",
       "        (key): Linear(in_features=504, out_features=504, bias=True)\n",
       "        (query): Linear(in_features=504, out_features=504, bias=True)\n",
       "        (value): Linear(in_features=504, out_features=504, bias=True)\n",
       "        (attn_drop): Dropout(p=0.1, inplace=False)\n",
       "        (resid_drop): Dropout(p=0.1, inplace=False)\n",
       "        (proj): Linear(in_features=504, out_features=504, bias=True)\n",
       "      )\n",
       "      (mlp): Sequential(\n",
       "        (0): Linear(in_features=504, out_features=2016, bias=True)\n",
       "        (1): GELU()\n",
       "        (2): Linear(in_features=2016, out_features=504, bias=True)\n",
       "        (3): Dropout(p=0.1, inplace=False)\n",
       "      )\n",
       "    )\n",
       "    (2): Block(\n",
       "      (ln1): LayerNorm((504,), eps=1e-05, elementwise_affine=True)\n",
       "      (ln2): LayerNorm((504,), eps=1e-05, elementwise_affine=True)\n",
       "      (attn): CausalSelfAttention(\n",
       "        (key): Linear(in_features=504, out_features=504, bias=True)\n",
       "        (query): Linear(in_features=504, out_features=504, bias=True)\n",
       "        (value): Linear(in_features=504, out_features=504, bias=True)\n",
       "        (attn_drop): Dropout(p=0.1, inplace=False)\n",
       "        (resid_drop): Dropout(p=0.1, inplace=False)\n",
       "        (proj): Linear(in_features=504, out_features=504, bias=True)\n",
       "      )\n",
       "      (mlp): Sequential(\n",
       "        (0): Linear(in_features=504, out_features=2016, bias=True)\n",
       "        (1): GELU()\n",
       "        (2): Linear(in_features=2016, out_features=504, bias=True)\n",
       "        (3): Dropout(p=0.1, inplace=False)\n",
       "      )\n",
       "    )\n",
       "    (3): Block(\n",
       "      (ln1): LayerNorm((504,), eps=1e-05, elementwise_affine=True)\n",
       "      (ln2): LayerNorm((504,), eps=1e-05, elementwise_affine=True)\n",
       "      (attn): CausalSelfAttention(\n",
       "        (key): Linear(in_features=504, out_features=504, bias=True)\n",
       "        (query): Linear(in_features=504, out_features=504, bias=True)\n",
       "        (value): Linear(in_features=504, out_features=504, bias=True)\n",
       "        (attn_drop): Dropout(p=0.1, inplace=False)\n",
       "        (resid_drop): Dropout(p=0.1, inplace=False)\n",
       "        (proj): Linear(in_features=504, out_features=504, bias=True)\n",
       "      )\n",
       "      (mlp): Sequential(\n",
       "        (0): Linear(in_features=504, out_features=2016, bias=True)\n",
       "        (1): GELU()\n",
       "        (2): Linear(in_features=2016, out_features=504, bias=True)\n",
       "        (3): Dropout(p=0.1, inplace=False)\n",
       "      )\n",
       "    )\n",
       "    (4): Block(\n",
       "      (ln1): LayerNorm((504,), eps=1e-05, elementwise_affine=True)\n",
       "      (ln2): LayerNorm((504,), eps=1e-05, elementwise_affine=True)\n",
       "      (attn): CausalSelfAttention(\n",
       "        (key): Linear(in_features=504, out_features=504, bias=True)\n",
       "        (query): Linear(in_features=504, out_features=504, bias=True)\n",
       "        (value): Linear(in_features=504, out_features=504, bias=True)\n",
       "        (attn_drop): Dropout(p=0.1, inplace=False)\n",
       "        (resid_drop): Dropout(p=0.1, inplace=False)\n",
       "        (proj): Linear(in_features=504, out_features=504, bias=True)\n",
       "      )\n",
       "      (mlp): Sequential(\n",
       "        (0): Linear(in_features=504, out_features=2016, bias=True)\n",
       "        (1): GELU()\n",
       "        (2): Linear(in_features=2016, out_features=504, bias=True)\n",
       "        (3): Dropout(p=0.1, inplace=False)\n",
       "      )\n",
       "    )\n",
       "    (5): Block(\n",
       "      (ln1): LayerNorm((504,), eps=1e-05, elementwise_affine=True)\n",
       "      (ln2): LayerNorm((504,), eps=1e-05, elementwise_affine=True)\n",
       "      (attn): CausalSelfAttention(\n",
       "        (key): Linear(in_features=504, out_features=504, bias=True)\n",
       "        (query): Linear(in_features=504, out_features=504, bias=True)\n",
       "        (value): Linear(in_features=504, out_features=504, bias=True)\n",
       "        (attn_drop): Dropout(p=0.1, inplace=False)\n",
       "        (resid_drop): Dropout(p=0.1, inplace=False)\n",
       "        (proj): Linear(in_features=504, out_features=504, bias=True)\n",
       "      )\n",
       "      (mlp): Sequential(\n",
       "        (0): Linear(in_features=504, out_features=2016, bias=True)\n",
       "        (1): GELU()\n",
       "        (2): Linear(in_features=2016, out_features=504, bias=True)\n",
       "        (3): Dropout(p=0.1, inplace=False)\n",
       "      )\n",
       "    )\n",
       "    (6): Block(\n",
       "      (ln1): LayerNorm((504,), eps=1e-05, elementwise_affine=True)\n",
       "      (ln2): LayerNorm((504,), eps=1e-05, elementwise_affine=True)\n",
       "      (attn): CausalSelfAttention(\n",
       "        (key): Linear(in_features=504, out_features=504, bias=True)\n",
       "        (query): Linear(in_features=504, out_features=504, bias=True)\n",
       "        (value): Linear(in_features=504, out_features=504, bias=True)\n",
       "        (attn_drop): Dropout(p=0.1, inplace=False)\n",
       "        (resid_drop): Dropout(p=0.1, inplace=False)\n",
       "        (proj): Linear(in_features=504, out_features=504, bias=True)\n",
       "      )\n",
       "      (mlp): Sequential(\n",
       "        (0): Linear(in_features=504, out_features=2016, bias=True)\n",
       "        (1): GELU()\n",
       "        (2): Linear(in_features=2016, out_features=504, bias=True)\n",
       "        (3): Dropout(p=0.1, inplace=False)\n",
       "      )\n",
       "    )\n",
       "    (7): Block(\n",
       "      (ln1): LayerNorm((504,), eps=1e-05, elementwise_affine=True)\n",
       "      (ln2): LayerNorm((504,), eps=1e-05, elementwise_affine=True)\n",
       "      (attn): CausalSelfAttention(\n",
       "        (key): Linear(in_features=504, out_features=504, bias=True)\n",
       "        (query): Linear(in_features=504, out_features=504, bias=True)\n",
       "        (value): Linear(in_features=504, out_features=504, bias=True)\n",
       "        (attn_drop): Dropout(p=0.1, inplace=False)\n",
       "        (resid_drop): Dropout(p=0.1, inplace=False)\n",
       "        (proj): Linear(in_features=504, out_features=504, bias=True)\n",
       "      )\n",
       "      (mlp): Sequential(\n",
       "        (0): Linear(in_features=504, out_features=2016, bias=True)\n",
       "        (1): GELU()\n",
       "        (2): Linear(in_features=2016, out_features=504, bias=True)\n",
       "        (3): Dropout(p=0.1, inplace=False)\n",
       "      )\n",
       "    )\n",
       "  )\n",
       "  (ln_f): LayerNorm((504,), eps=1e-05, elementwise_affine=True)\n",
       "  (ln_fp): LayerNorm((504,), eps=1e-05, elementwise_affine=True)\n",
       "  (head): Linear(in_features=504, out_features=47, bias=False)\n",
       ")"
      ]
     },
     "execution_count": 16,
     "metadata": {},
     "output_type": "execute_result"
    }
   ],
   "source": [
    "model"
   ]
  },
  {
   "cell_type": "code",
   "execution_count": 17,
   "id": "17da5a68",
   "metadata": {},
   "outputs": [
    {
     "name": "stderr",
     "output_type": "stream",
     "text": [
      "epoch 1 iter 124: train loss 0.77729. lr 4.999879e-04:   1%|▏                    | 124/19532 [00:58<2:30:43,  2.15it/s]"
     ]
    },
    {
     "name": "stdout",
     "output_type": "stream",
     "text": [
      "-->Inputs: tensor([23, 12, 10, 17, 19,  6, 44, 13,  6,  6, 14,  7, 14, 10, 20, 14,  6, 44,\n",
      "        13,  7, 12, 10, 17, 20,  0,  0,  0,  0,  0,  0,  0,  0,  0,  0,  0,  0,\n",
      "         0,  0,  0,  0,  0,  0,  0,  0,  0,  0,  0,  0,  0,  0,  0,  0,  0,  0,\n",
      "         0,  0,  0,  0,  0], device='cuda:0') \n",
      "Logits: tensor([12, 10, 20, 16,  6, 44, 13,  6,  6, 14,  7, 12, 10, 12,  6,  6, 44, 13,\n",
      "        24, 12, 10, 15, 16, 24,  6, 24, 24, 24, 24, 24, 24, 24, 24, 24, 12, 12,\n",
      "        16, 24, 24, 24, 24, 24, 24, 16, 24, 24, 24, 24, 24, 24, 24, 16, 24, 16,\n",
      "        24, 24, 16, 16, 24], device='cuda:0') \n",
      "Targets: tensor([12, 10, 17, 19,  6, 44, 13,  6,  6, 14,  7, 14, 10, 20, 14,  6, 44, 13,\n",
      "         7, 12, 10, 17, 20, 24,  0,  0,  0,  0,  0,  0,  0,  0,  0,  0,  0,  0,\n",
      "         0,  0,  0,  0,  0,  0,  0,  0,  0,  0,  0,  0,  0,  0,  0,  0,  0,  0,\n",
      "         0,  0,  0,  0,  0], device='cuda:0')\n",
      "Inputs:<0.57*x1**2+2.82*x1+0.58PPPPPPPPPPPPPPPPPPPPPPPPPPPPPPPPPPP\n",
      "Logits:0.84*x1**2+0.0**x1>0.34>*>>>>>>>>>004>>>>>>4>>>>>>>4>4>>44>\n",
      "Targets:0.57*x1**2+2.82*x1+0.58>PPPPPPPPPPPPPPPPPPPPPPPPPPPPPPPPPPP\n"
     ]
    },
    {
     "name": "stderr",
     "output_type": "stream",
     "text": [
      "epoch 1 iter 393: train loss 0.73747. lr 4.998791e-04:   2%|▍                    | 394/19532 [03:06<2:29:18,  2.14it/s]"
     ]
    },
    {
     "name": "stdout",
     "output_type": "stream",
     "text": [
      "-->Inputs: tensor([23, 42, 40, 41, 43,  4, 44, 13,  9, 12, 10, 12, 13,  5,  0,  0,  0,  0,\n",
      "         0,  0,  0,  0,  0,  0,  0,  0,  0,  0,  0,  0,  0,  0,  0,  0,  0,  0,\n",
      "         0,  0,  0,  0,  0,  0,  0,  0,  0,  0,  0,  0,  0,  0,  0,  0,  0,  0,\n",
      "         0,  0,  0,  0,  0], device='cuda:0') \n",
      "Logits: tensor([42, 35, 41, 43,  4, 44, 13,  5, 12, 10, 21, 15,  5, 24,  6,  6,  6,  6,\n",
      "        42,  6,  6,  6, 35, 12,  6, 24, 24, 24, 24, 24, 24, 24, 24, 24, 24, 24,\n",
      "        24, 24, 24, 24, 16, 24, 24, 24, 24, 12, 24, 24, 24, 12, 24, 12, 24, 24,\n",
      "        24, 24, 24, 24, 24], device='cuda:0') \n",
      "Targets: tensor([42, 40, 41, 43,  4, 44, 13,  9, 12, 10, 12, 13,  5, 24,  0,  0,  0,  0,\n",
      "         0,  0,  0,  0,  0,  0,  0,  0,  0,  0,  0,  0,  0,  0,  0,  0,  0,  0,\n",
      "         0,  0,  0,  0,  0,  0,  0,  0,  0,  0,  0,  0,  0,  0,  0,  0,  0,  0,\n",
      "         0,  0,  0,  0,  0], device='cuda:0')\n",
      "Inputs:<sqrt(x1-0.01)PPPPPPPPPPPPPPPPPPPPPPPPPPPPPPPPPPPPPPPPPPPPP\n",
      "Logits:sirt(x1)0.93)>****s***i0*>>>>>>>>>>>>>>>4>>>>0>>>0>0>>>>>>>\n",
      "Targets:sqrt(x1-0.01)>PPPPPPPPPPPPPPPPPPPPPPPPPPPPPPPPPPPPPPPPPPPPP\n"
     ]
    },
    {
     "name": "stderr",
     "output_type": "stream",
     "text": [
      "epoch 1 iter 537: train loss 0.76020. lr 4.997743e-04:   3%|▌                    | 538/19532 [04:13<2:29:24,  2.12it/s]"
     ]
    },
    {
     "name": "stdout",
     "output_type": "stream",
     "text": [
      "KeyboardInterrupt\n"
     ]
    },
    {
     "name": "stderr",
     "output_type": "stream",
     "text": [
      "\n"
     ]
    }
   ],
   "source": [
    "from mingpt.trainer import Trainer, TrainerConfig\n",
    "\n",
    "# initialize a trainer instance and kick off training\n",
    "tconf = TrainerConfig(max_epochs=150, batch_size=batchSize, learning_rate=5e-4,\n",
    "                      lr_decay=True, warmup_tokens=512*20, final_tokens=2*len(train_dataset)*block_size,\n",
    "                      num_workers=0, ckpt_path='./SavedModels/bestModel/checkpoint.pt')\n",
    "trainer = Trainer(model, train_dataset, test_dataset, tconf)\n",
    "\n",
    "try:\n",
    "    trainer.train()\n",
    "except KeyboardInterrupt:\n",
    "    print('KeyboardInterrupt')"
   ]
  },
  {
   "cell_type": "code",
   "execution_count": 18,
   "id": "0bd2305b",
   "metadata": {},
   "outputs": [],
   "source": [
    "#torch.save(model, './SavedModels/savedModel.pt')"
   ]
  },
  {
   "cell_type": "code",
   "execution_count": 19,
   "id": "45056419",
   "metadata": {},
   "outputs": [],
   "source": [
    "# model.load_state_dict(torch.load('./SavedModels/bestModel/checkpoint.pt'))\n",
    "# model = model.eval().to(trainer.device)"
   ]
  },
  {
   "cell_type": "code",
   "execution_count": 20,
   "id": "17e47065",
   "metadata": {},
   "outputs": [],
   "source": [
    "# add a safe wrapper for numpy math functions\n",
    "from numpy import *\n",
    "import numpy as np\n",
    "\n",
    "def divide(x, y):\n",
    "  x = np.nan_to_num(x)\n",
    "  y = np.nan_to_num(y)\n",
    "  return np.divide(x,y+1e-5)\n",
    "\n",
    "def sqrt(x):\n",
    "  x = np.nan_to_num(x)\n",
    "  return np.sqrt(np.abs(x)) \n",
    "\n",
    "# Mean square error\n",
    "def mse(y, y_hat):\n",
    "    y_hat = np.reshape(y_hat, [1, -1])[0]\n",
    "    y_gold = np.reshape(y, [1, -1])[0]\n",
    "    our_sum = 0\n",
    "    for i in range(len(y_gold)):\n",
    "        our_sum += (y_hat[i] - y_gold[i]) ** 2\n",
    "\n",
    "    return our_sum / len(y_gold)"
   ]
  },
  {
   "cell_type": "code",
   "execution_count": 21,
   "id": "8c288fb6",
   "metadata": {},
   "outputs": [],
   "source": [
    "fName = '{}_SymbolicGPT_{}_{}_{}Epochs_{}.txt'.format(dataInfo, method, \n",
    "                                                      'Repetitive' if not padding else 'Padding',\n",
    "                                                      trainer.epoch,\n",
    "                                                      block_size)"
   ]
  },
  {
   "cell_type": "code",
   "execution_count": null,
   "id": "8f8ca01c",
   "metadata": {},
   "outputs": [
    {
     "name": "stdout",
     "output_type": "stream",
     "text": [
      "Test Case 0.\n",
      "Target:-sin(1.1*x1+0.64)\n",
      "Predicted:sin(x1)\n",
      "MSE:1.483690849489537\n",
      "\n",
      "Test Case 1.\n"
     ]
    }
   ],
   "source": [
    "# alright, let's sample some character-level symbolic GPT\n",
    "from mingpt.utils import sample\n",
    "#from gp_model import Genetic_Model\n",
    "#from mlp_model import MLP_Model\n",
    "    \n",
    "loader = torch.utils.data.DataLoader(\n",
    "                                test_dataset, \n",
    "                                shuffle=False, \n",
    "                                pin_memory=True,\n",
    "                                batch_size=1,\n",
    "                                num_workers=0)\n",
    "\n",
    "testRange = [3.1,6.0]\n",
    "numTestPoints = 10\n",
    "#test = np.linspace(3.1,6.0,numTestPoints)\n",
    "\n",
    "# gpm = Genetic_Model(n_jobs=-1)\n",
    "# mlp = MLP_Model()\n",
    "\n",
    "resultDict = {}\n",
    "with open(fName, 'w', encoding=\"utf-8\") as o:\n",
    "    textTestList = textTest.split('\\n')\n",
    "    modelName = 'SymbolicGPT'\n",
    "    resultDict[fName] = {modelName:[]}\n",
    "    \n",
    "    for i, batch in enumerate(loader):\n",
    "        if extractAttributes:\n",
    "            x,y,p,m = batch\n",
    "        else:\n",
    "            x,y = batch\n",
    "        \n",
    "        print('Test Case {}.'.format(i))\n",
    "        o.write('Test Case {}/{}.\\n'.format(i,len(textTestList)))\n",
    "        \n",
    "        t = json.loads(textTestList[i])\n",
    "        \n",
    "        if model.pointNetConfig:\n",
    "            x = x[:,0:1].to(trainer.device)\n",
    "            p = [e.to(trainer.device) for e in p] if pointsAsList else p.to(trainer.device)\n",
    "            yHat = sample(model, x, block_size, points=p, \n",
    "                          temperature=1.0, sample=True, \n",
    "                          top_k=10)[0]\n",
    "        else:\n",
    "            sos_eq_loc = loc = (x == test_dataset.stoi['E']).nonzero(as_tuple=True) \n",
    "            # pass everything (x,y) to the model except the equations\n",
    "            x = x[:,:loc[1].item()+5].to(trainer.device)\n",
    "            #x = x[:,0:sos_eq_loc].to(trainer.device)\n",
    "            yHat = sample(model, x, block_size, points=None, \n",
    "                          temperature=1.0, sample=True, \n",
    "                          top_k=10)[0]\n",
    "            \n",
    "        # filter out predicted\n",
    "        target = ''.join([train_dataset.itos[int(i)] for i in y[0]])\n",
    "        predicted = ''.join([train_dataset.itos[int(i)] for i in yHat])\n",
    "        \n",
    "        #raise\n",
    "                \n",
    "        if extractAttributes:\n",
    "            target = target.strip(paddingToken).split('>')\n",
    "            target = target[0] if len(target[0])>1 else target[1]\n",
    "            target = target.strip('<').strip(\">\")\n",
    "            predicted = predicted.strip(paddingToken).split('>')\n",
    "            predicted = predicted[0] if len(predicted[0])>1 else predicted[1]\n",
    "            predicted = predicted.strip('<').strip(\">\")\n",
    "        else:\n",
    "            target = target[loc[1].item()+5:].split('>')[0]\n",
    "            predicted = predicted[loc[1].item()+5+1:].split('>')[0]\n",
    "            target = target.strip(paddingToken).strip('<').strip(\">\")\n",
    "            predicted = predicted.strip(paddingToken).strip('<').strip(\">\")\n",
    "            \n",
    "        \n",
    "\n",
    "        o.write('{}\\n'.format(target))\n",
    "        \n",
    "        print('Target:{}\\nPredicted:{}'.format(target, predicted))\n",
    "        \n",
    "        Ys = [] #t['YT']\n",
    "        Yhats = []\n",
    "        for xs in t['XT']:\n",
    "            try:\n",
    "                eqTmp = target + '' # copy eq\n",
    "                eqTmp = eqTmp.replace(' ','')\n",
    "                eqTmp = eqTmp.replace('\\n','')\n",
    "                for i,x in enumerate(xs):\n",
    "                    # replace xi with the value in the eq\n",
    "                    eqTmp = eqTmp.replace('x{}'.format(i+1), str(x))\n",
    "                    if ',' in eqTmp:\n",
    "                        assert 'There is a , in the equation!'\n",
    "                YEval = eval(eqTmp)\n",
    "                YEval = 0 if np.isnan(YEval) else YEval\n",
    "                YEval = 100 if np.isinf(YEval) else YEval\n",
    "            except:\n",
    "                YEval = 100 #TODO: Maybe I have to punish the model for each wrong template\n",
    "            Ys.append(YEval)\n",
    "            try:\n",
    "                eqTmp = predicted + '' # copy eq\n",
    "                eqTmp = eqTmp.replace(' ','')\n",
    "                eqTmp = eqTmp.replace('\\n','')\n",
    "                for i,x in enumerate(xs):\n",
    "                    # replace xi with the value in the eq\n",
    "                    eqTmp = eqTmp.replace('x{}'.format(i+1), str(x))\n",
    "                    if ',' in eqTmp:\n",
    "                        assert 'There is a , in the equation!'\n",
    "                Yhat = eval(eqTmp)\n",
    "                Yhat = 0 if np.isnan(Yhat) else Yhat\n",
    "                Yhat = 100 if np.isinf(Yhat) else Yhat\n",
    "            except:\n",
    "                Yhat = 100\n",
    "            Yhats.append(Yhat)\n",
    "        mseErr = mse(Ys,Yhats)\n",
    "        \n",
    "        if type(mseErr) is np.complex128:\n",
    "            mseErr = mseErr.real\n",
    "        #elif mseErr < 0.00005: # to handle negative infinity, and log 0\n",
    "        #    mseErr = 0.00005\n",
    "            \n",
    "        resultDict[fName][modelName].append(mseErr)\n",
    "        \n",
    "        o.write('{}:{}\\n{}\\n\\n'.format(modelName, \n",
    "                               mseErr,\n",
    "                               predicted))\n",
    "        \n",
    "        print('MSE:{}\\n'.format(mseErr))"
   ]
  },
  {
   "cell_type": "code",
   "execution_count": null,
   "id": "e7c90a9a",
   "metadata": {},
   "outputs": [],
   "source": [
    "print('Avg MSE:{}'.format(np.mean(resultDict[fName][modelName])))"
   ]
  },
  {
   "cell_type": "code",
   "execution_count": null,
   "id": "c71a3de7",
   "metadata": {},
   "outputs": [],
   "source": [
    "print(fName)"
   ]
  },
  {
   "cell_type": "code",
   "execution_count": null,
   "id": "9d62a889",
   "metadata": {},
   "outputs": [],
   "source": [
    "target"
   ]
  },
  {
   "cell_type": "code",
   "execution_count": null,
   "id": "80cc98f2",
   "metadata": {},
   "outputs": [],
   "source": [
    "predicted"
   ]
  },
  {
   "cell_type": "code",
   "execution_count": null,
   "id": "0032e94f",
   "metadata": {},
   "outputs": [],
   "source": [
    "target = target.strip(paddingToken).strip(\"'\").split('\"')\n",
    "target = target[0] if len(target[0])>1 else target[1]\n",
    "target = target.strip('\"')\n",
    "predicted = predicted.strip(\"'\").strip(paddingToken).split('\"')\n",
    "predicted = predicted[0] if len(predicted[0])>1 else predicted[1]\n",
    "predicted = predicted.strip('\"')"
   ]
  },
  {
   "cell_type": "code",
   "execution_count": null,
   "id": "58b093d7",
   "metadata": {},
   "outputs": [],
   "source": [
    "target"
   ]
  },
  {
   "cell_type": "code",
   "execution_count": null,
   "id": "4725ef0e",
   "metadata": {},
   "outputs": [],
   "source": [
    "predicted"
   ]
  },
  {
   "cell_type": "code",
   "execution_count": null,
   "id": "c756d6fc",
   "metadata": {},
   "outputs": [],
   "source": [
    "# # load the GP and MLP if it's available\n",
    "# expPath = 'C:/Users/vpcom/OneDrive - University of Waterloo/Projects/symbolicgpt2/Experiments/OLD/'\n",
    "# expFile = 'test_1var_simple_mesh_GPT2_XYSorted_1024_88000.out'\n",
    "\n",
    "# with open(expPath+expFile, 'r') as f:\n",
    "#     resultDict[fName]['GP'] = []\n",
    "#     lines = f.readlines()\n",
    "#     for line in lines:\n",
    "#         filt = 'GP: '\n",
    "#         if filt in line:\n",
    "#             # save the error\n",
    "#             err = float(line.split(filt)[1].strip('\\n'))\n",
    "#             resultDict[fName]['GP'].append(err)"
   ]
  },
  {
   "cell_type": "code",
   "execution_count": null,
   "id": "4f6db69d",
   "metadata": {},
   "outputs": [],
   "source": [
    "# plot the error frequency for model comparison\n",
    "from matplotlib import pyplot as plt\n",
    "num_eqns = len(resultDict[fName]['SymbolicGPT'])\n",
    "num_vars = pconf.numberofVars\n",
    "\n",
    "models = list(resultDict[fName].keys())\n",
    "lists_of_error_scores = [resultDict[fName][key] for key in models]\n",
    "linestyles = [\"-\",\"dashdot\",\"dotted\",\"--\"]\n",
    "\n",
    "eps = 0.00001\n",
    "y, x, _ = plt.hist([np.log([max(min(x+eps, 100000),1e-5) for x in e]) for e in lists_of_error_scores],\n",
    "                   label=models,\n",
    "                   cumulative=True, \n",
    "                   histtype=\"step\", \n",
    "                   bins=2000, \n",
    "                   density=\"true\")\n",
    "y = np.expand_dims(y,0)\n",
    "plt.figure(figsize=(15, 10))\n",
    "\n",
    "for idx, m in enumerate(models): \n",
    "    plt.plot(x[:-1], \n",
    "           y[idx] * 100, \n",
    "           linestyle=linestyles[idx], \n",
    "           label=m)\n",
    "\n",
    "plt.legend(loc=\"upper left\")\n",
    "plt.title(\"{} equations of {} variables\".format(num_eqns, num_vars))\n",
    "plt.xlabel(\"Log of Mean Square Error\")\n",
    "plt.ylabel(\"Normalized Cumulative Frequency\")\n",
    "\n",
    "name = '{}.png'.format(fName)\n",
    "plt.savefig(name)"
   ]
  }
 ],
 "metadata": {
  "kernelspec": {
   "display_name": "Python 3",
   "language": "python",
   "name": "python3"
  },
  "language_info": {
   "codemirror_mode": {
    "name": "ipython",
    "version": 3
   },
   "file_extension": ".py",
   "mimetype": "text/x-python",
   "name": "python",
   "nbconvert_exporter": "python",
   "pygments_lexer": "ipython3",
   "version": "3.7.6"
  }
 },
 "nbformat": 4,
 "nbformat_minor": 5
}
