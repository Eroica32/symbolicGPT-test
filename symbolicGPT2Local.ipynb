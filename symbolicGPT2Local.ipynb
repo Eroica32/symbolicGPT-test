{
 "cells": [
  {
   "cell_type": "code",
   "execution_count": 5,
   "metadata": {},
   "outputs": [],
   "source": [
    "#@title #Inference\n",
    "model_path = 'D:/experiments/base' # '.'\n",
    "min_len = 0 #@param {type:\"number\", min:5, max:1024, step:1}\n",
    "sample_num = 1 #@param {type:\"number\", min:1, max:50, step:1}\n",
    "top_p = 0.7 #@param {type:\"number\", min:0, max:1}\n",
    "model_size = 'base' #@param {type:\"string\"}\n",
    "model_type = 'PT' #@param {type:\"string\"} # GPT2/PT\n",
    "extraName = '' #'-finetune'\n",
    "config_fn = 'configs/{}.json'.format(model_size) #'lm/configs/{}.json'.format(model_type) #@param {type:\"string\"}\n",
    "#ckpt_fn = '{}/experimentsSymbolic_{}{}_model.ckpt-188000'.format(model_path, model_size, extraName) #@param {type:\"string\"}\n",
    "ckpt_fn = '{}/model.ckpt-0'.format(model_path)\n",
    "filters = '' #@param {type:\"string\"} # text;\n",
    "saveFlag = False #@param {type:\"boolean\"}from scripts import demodemo.wraper(top_p, config_fn, ckpt_fn, min_len, sample_num, saveFlag, filters)"
   ]
  },
  {
   "cell_type": "code",
   "execution_count": 6,
   "metadata": {},
   "outputs": [
    {
     "name": "stdout",
     "output_type": "stream",
     "text": [
      "INFO:tensorflow:Restoring parameters from D:/experiments/base/model.ckpt-0\n",
      "🍺Model loaded. \n",
      "\n",
      "Input something please:⬇️\n",
      "Input prompt ending with an empty line: <SOS_X>[[0.1], [0.2], [0.31], [0.41], [0.51], [0.62], [0.72], [0.82], [0.93], [1.03], [1.13], [1.24], [1.34], [1.44], [1.55], [1.65], [1.76], [1.86], [1.96], [2.07], [2.17], [2.27], [2.38], [2.48], [2.58], [2.69], [2.79], [2.89], [3.0], [3.1]]<EOS_X><SOS_Y>[-2.54, -1.97, -1.6, -1.34, -1.12, -0.89, -0.67, -0.45, -0.18, 0.08, 0.38, 0.74, 1.12, 1.54, 2.06, 2.61, 3.29, 3.99, 4.78, 5.77, 6.79, 7.93, 9.37, 10.85, 12.51, 14.58, 16.71, 19.1, 22.07, 25.11]<EOS_Y><SOS_EQ>exp(x1)*log(x1)<EOS_EQ>\n",
      "\n"
     ]
    },
    {
     "ename": "NameError",
     "evalue": "name 'SOS_Y' is not defined",
     "output_type": "error",
     "traceback": [
      "\u001b[1;31m---------------------------------------------------------------------------\u001b[0m",
      "\u001b[1;31mNameError\u001b[0m                                 Traceback (most recent call last)",
      "\u001b[1;32m<ipython-input-6-00084163f33c>\u001b[0m in \u001b[0;36m<module>\u001b[1;34m\u001b[0m\n\u001b[0;32m      2\u001b[0m \u001b[1;32mimport\u001b[0m \u001b[0mdemo\u001b[0m\u001b[1;33m\u001b[0m\u001b[1;33m\u001b[0m\u001b[0m\n\u001b[0;32m      3\u001b[0m demo.wraper(top_p, config_fn, ckpt_fn, min_len, sample_num, saveFlag, filters, \n\u001b[1;32m----> 4\u001b[1;33m             context='user', modelType=model_type, max_num_points=30, max_num_vars=5)\n\u001b[0m\u001b[0;32m      5\u001b[0m \u001b[1;33m\u001b[0m\u001b[0m\n\u001b[0;32m      6\u001b[0m \u001b[1;31m# Some cool Example As Input:\u001b[0m\u001b[1;33m\u001b[0m\u001b[1;33m\u001b[0m\u001b[1;33m\u001b[0m\u001b[0m\n",
      "\u001b[1;32m~\\OneDrive - University of Waterloo\\Projects\\symbolicgpt2\\demo.py\u001b[0m in \u001b[0;36mwraper\u001b[1;34m(top_p, config_fn, ckpt_fn, min_len, sample_num, saveFlag, filters, context, modelType, max_num_points, max_num_vars)\u001b[0m\n\u001b[0;32m    422\u001b[0m     \u001b[1;32mif\u001b[0m \u001b[0mfilters\u001b[0m \u001b[1;33m!=\u001b[0m \u001b[1;34m''\u001b[0m\u001b[1;33m:\u001b[0m\u001b[1;33m\u001b[0m\u001b[1;33m\u001b[0m\u001b[0m\n\u001b[0;32m    423\u001b[0m         \u001b[0msys\u001b[0m\u001b[1;33m.\u001b[0m\u001b[0margv\u001b[0m \u001b[1;33m+=\u001b[0m \u001b[1;33m[\u001b[0m\u001b[1;34m'-filters'\u001b[0m\u001b[1;33m,\u001b[0m \u001b[1;34m'{}'\u001b[0m\u001b[1;33m.\u001b[0m\u001b[0mformat\u001b[0m\u001b[1;33m(\u001b[0m\u001b[0mfilters\u001b[0m\u001b[1;33m)\u001b[0m\u001b[1;33m]\u001b[0m\u001b[1;33m\u001b[0m\u001b[1;33m\u001b[0m\u001b[0m\n\u001b[1;32m--> 424\u001b[1;33m     \u001b[1;32mreturn\u001b[0m \u001b[0mmain\u001b[0m\u001b[1;33m(\u001b[0m\u001b[1;33m)\u001b[0m\u001b[1;33m\u001b[0m\u001b[1;33m\u001b[0m\u001b[0m\n\u001b[0m\u001b[0;32m    425\u001b[0m \u001b[1;33m\u001b[0m\u001b[0m\n\u001b[0;32m    426\u001b[0m \u001b[1;32mif\u001b[0m \u001b[0m__name__\u001b[0m \u001b[1;33m==\u001b[0m \u001b[1;34m\"__main__\"\u001b[0m\u001b[1;33m:\u001b[0m\u001b[1;33m\u001b[0m\u001b[1;33m\u001b[0m\u001b[0m\n",
      "\u001b[1;32m~\\OneDrive - University of Waterloo\\Projects\\symbolicgpt2\\demo.py\u001b[0m in \u001b[0;36mmain\u001b[1;34m()\u001b[0m\n\u001b[0;32m    308\u001b[0m                 \u001b[0mpointsX\u001b[0m \u001b[1;33m=\u001b[0m \u001b[0mpointsY\u001b[0m\u001b[1;33m.\u001b[0m\u001b[0mreplace\u001b[0m\u001b[1;33m(\u001b[0m\u001b[1;34m'<EOS_X>'\u001b[0m\u001b[1;33m,\u001b[0m\u001b[1;34m''\u001b[0m\u001b[1;33m)\u001b[0m\u001b[1;33m\u001b[0m\u001b[1;33m\u001b[0m\u001b[0m\n\u001b[0;32m    309\u001b[0m \u001b[1;33m\u001b[0m\u001b[0m\n\u001b[1;32m--> 310\u001b[1;33m                 \u001b[0mx\u001b[0m \u001b[1;33m=\u001b[0m \u001b[0meval\u001b[0m\u001b[1;33m(\u001b[0m\u001b[0mpointsX\u001b[0m\u001b[1;33m)\u001b[0m\u001b[1;33m\u001b[0m\u001b[1;33m\u001b[0m\u001b[0m\n\u001b[0m\u001b[0;32m    311\u001b[0m                 \u001b[0my\u001b[0m \u001b[1;33m=\u001b[0m \u001b[0meval\u001b[0m\u001b[1;33m(\u001b[0m\u001b[0mpointsY\u001b[0m\u001b[1;33m)\u001b[0m\u001b[1;33m\u001b[0m\u001b[1;33m\u001b[0m\u001b[0m\n\u001b[0;32m    312\u001b[0m \u001b[1;33m\u001b[0m\u001b[0m\n",
      "\u001b[1;32m~\\OneDrive - University of Waterloo\\Projects\\symbolicgpt2\\demo.py\u001b[0m in \u001b[0;36m<module>\u001b[1;34m\u001b[0m\n",
      "\u001b[1;31mNameError\u001b[0m: name 'SOS_Y' is not defined"
     ]
    }
   ],
   "source": [
    "#from scripts import demo\n",
    "import demo\n",
    "demo.wraper(top_p, config_fn, ckpt_fn, min_len, sample_num, saveFlag, filters, \n",
    "            context='user', modelType=model_type, max_num_points=30, max_num_vars=5)\n",
    "\n",
    "# Some cool Example As Input:\n",
    "\n",
    "# <SOS_X>[[0.1], [0.2], [0.31], [0.41], [0.51], [0.62], [0.72], [0.82], [0.93], [1.03], [1.13], [1.24], [1.34], [1.44], [1.55], [1.65], [1.76], [1.86], [1.96], [2.07], [2.17], [2.27], [2.38], [2.48], [2.58], [2.69], [2.79], [2.89], [3.0], [3.1]]<EOS_X><SOS_Y>[-2.54, -1.97, -1.6, -1.34, -1.12, -0.89, -0.67, -0.45, -0.18, 0.08, 0.38, 0.74, 1.12, 1.54, 2.06, 2.61, 3.29, 3.99, 4.78, 5.77, 6.79, 7.93, 9.37, 10.85, 12.51, 14.58, 16.71, 19.1, 22.07, 25.11]<EOS_Y><SOS_EQ>exp(x1)*log(x1)<EOS_EQ>"
   ]
  },
  {
   "cell_type": "code",
   "execution_count": null,
   "metadata": {},
   "outputs": [],
   "source": []
  }
 ],
 "metadata": {
  "kernelspec": {
   "display_name": "Python 3",
   "language": "python",
   "name": "python3"
  },
  "language_info": {
   "codemirror_mode": {
    "name": "ipython",
    "version": 3
   },
   "file_extension": ".py",
   "mimetype": "text/x-python",
   "name": "python",
   "nbconvert_exporter": "python",
   "pygments_lexer": "ipython3",
   "version": "3.7.6"
  }
 },
 "nbformat": 4,
 "nbformat_minor": 4
}
