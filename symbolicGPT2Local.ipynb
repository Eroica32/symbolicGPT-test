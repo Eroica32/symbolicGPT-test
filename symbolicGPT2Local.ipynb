{
 "cells": [
  {
   "cell_type": "code",
   "execution_count": 11,
   "metadata": {},
   "outputs": [],
   "source": [
    "#@title #Inference\n",
    "model_path = 'D:/experiments/base' # '.'\n",
    "min_len = 0 #@param {type:\"number\", min:5, max:1024, step:1}\n",
    "sample_num = 1 #@param {type:\"number\", min:1, max:50, step:1}\n",
    "top_p = 0.9 #@param {type:\"number\", min:0, max:1}\n",
    "model_size = 'large' #@param {type:\"string\"}\n",
    "model_type = 'PT' #@param {type:\"string\"} # GPT2/PT\n",
    "extraName = '' #'-finetune'\n",
    "config_fn = 'configs/{}.json'.format(model_size) #'lm/configs/{}.json'.format(model_type) #@param {type:\"string\"}\n",
    "#ckpt_fn = '{}/experimentsSymbolic_{}{}_model.ckpt-188000'.format(model_path, model_size, extraName) #@param {type:\"string\"}\n",
    "ckpt_fn = '{}/model.ckpt-59000'.format(model_path)\n",
    "filters = '' #@param {type:\"string\"} # text;\n",
    "saveFlag = False #@param {type:\"boolean\"}from scripts import demodemo.wraper(top_p, config_fn, ckpt_fn, min_len, sample_num, saveFlag, filters)"
   ]
  },
  {
   "cell_type": "code",
   "execution_count": 15,
   "metadata": {},
   "outputs": [
    {
     "name": "stdout",
     "output_type": "stream",
     "text": [
      "INFO:tensorflow:Restoring parameters from D:/experiments/base/model.ckpt-59000\n",
      "🍺Model loaded. \n",
      "\n",
      "\n",
      "Extracted input text: <SOS_EQ>\n",
      " Extracted input points:[1.43956, 0, 0, 0, 0, -0.93153, 1.45615, 0, 0, 0, 0, -0.9313, 0.2848, 0, 0, 0, 0, -0.97787, 2.55005, 0, 0, 0, 0, 0.20689, 2.1613, 0, 0, 0, 0, -0.78345, 2.66458, 0, 0, 0, 0, 0.45886, 1.34165, 0, 0, 0, 0, -0.93799, 1.91112, 0, 0, 0, 0, -0.99834, 2.78582, 0, 0, 0, 0, 0.64146, 0, 0, 0, 0, 0, 0, 0, 0, 0, 0, 0, 0, 0, 0, 0, 0, 0, 0, 0, 0, 0, 0, 0, 0, 0, 0, 0, 0, 0, 0, 0, 0, 0, 0, 0, 0, 0, 0, 0, 0, 0, 0, 0, 0, 0, 0, 0, 0, 0, 0, 0, 0, 0, 0, 0, 0, 0, 0, 0, 0, 0, 0, 0, 0, 0, 0, 0, 0, 0, 0, 0, 0, 0, 0, 0, 0, 0, 0, 0, 0, 0, 0, 0, 0, 0, 0, 0, 0, 0, 0, 0, 0, 0, 0, 0, 0, 0, 0, 0, 0, 0, 0, 0, 0, 0, 0, 0, 0, 0, 0, 0, 0, 0, 0, 0, 0, 0, 0, 0, 0, 0, 0, 0, 0, 0, 0, 0, 0, 0, 0, 0, 0]\n",
      "\n",
      "0/1->eq:<SOS_EQ>1sqrtsin00sin0loglogsqrtexpsqrtlog-logsin-sqrtloglogsinsinloge\n",
      "xp-logexp-sqrtsqrtexpsqrtsqrt010sqrt0log1expsqrtlogsinloglogsqrt1logex\n",
      "pexplogsinlogsinsqrtsin--explogsqrtsqrt-sqrtlog--1logsin0sin1sqrtexp0s\n",
      "qrt0-10log01logexplogexp1sinexp1sqrtexplog-sin0-loglogsqrtsinlog0sqrtl\n",
      "oglog--exp1logexpsin-expsqrtsin-0sinexpexp0expsinsinexpexp-sinsqrtlogs\n",
      "qrtlog-1sqrtsinsqrtlogsqrtexpsqrtsinexpsinsqrtsin-exp1logsqrt-exp-exps\n",
      "qrtexpsqrt-exploglog00sqrtlogsin-sqrtsqrtsinsinsinloglogsin-sqrt00-log\n",
      "-explogexpsin-0sqrt0exp--exp-logsqrtlogsinlog-sqrt-expsinsin1logexplog\n",
      "loglog10sinsqrtexpexplog-sqrtexp-log1logsqrt0-expsqrt0logexpsinexpsin0\n",
      "-sqrtsinsin0expexplogsqrt-sinsin0sin00sqrt0sin-0sqrtlogsqrtsqrt--sinlo\n",
      "g--exp---exp-sin-logsinexp00sqrt-0log-sqrt--expsqrtloglogexp-loglogexp\n",
      "0-exp--sqrt0sqrt-exp-logsqrtlogsqrtsinsqrtsqrtsinexploglog--sinsinlogs\n",
      "qrtexpsqrtsqrtsqrt--log-logsqrtsqrtexpexp-sin-exp-0exp--1sin-sqrtsinlo\n",
      "gexpsin0log0-00loglog-exp0exp0-sqrt0sinsinsqrt-0exploglogsqrtsinsqrt10\n",
      "-0-0--log-0sinlogexpexploglog--logsqrtexp-sqrtexplogsinsqrtsinexpsinex\n",
      "p--010sinexp-loglogsinlog0-exp-exp0logsinlog1-01sqrtsinexp-logexpexplo\n",
      "glog-exp-log1-log---sqrtexp-sin--sqrtlogsinsinexp00exp-1sin-logsqrtsqr\n",
      "t-logsinlogsqrt-sqrtsqrtsinsqrt-sinsin10sqrt0-sin-sin0sqrt-logexp0log0\n",
      "0log1exp-logsinexpexpexpsqrtlogexplogsinlogsinsqrt1logsin-1loglogexp0e\n",
      "xpsqrtsinsinsqrt0sqrtsinlogsinloglogsinsqrtsinexpexp--loglog-expsqrtsi\n",
      "nsqrt0logsin0log0logexplogexpsinloglog--logexp-logsqrt1sinexpsin-00log\n",
      "sqrtlogsqrtlog00expsin--sinsinlogexp0sinlogsinlog-expsin0sqrt0logexp-e\n",
      "xpsinsqrt0logexp-sqrtsqrtexpexp-explogsin-1sin11log-log0--explogsinexp\n",
      "loglogsqrtsqrtsqrtsqrtexpexpsinexplogsqrtsqrtexp1explogsqrt0-sqrtloglo\n",
      "gsqrtexpsqrtsinexp0-log1loglog01--01logsqrtsinsqrtsqrt0loglogsqrt-sins\n",
      "inlog-0expexpsqrtlogloglogexpsqrt-log001sin-sinsinexpsqrt--sqrt-explog\n",
      "exp-expexpsinsqrt--expsqrt1-sinlogloglogexp-sinexp-0exp-1logsqrtlog0si\n",
      "n-exp1logsqrtsinexpsinlog-exploglogsqrtsqrtlog0sqrtsqrtexplogsin--sinl\n",
      "ogloglog1logsqrt-sqrtsqrtsqrtexp-0exp00sinsin---0log-exp---log0-0-1exp\n",
      "00expexpsqrt--exp0logloglogsqrt--sinexpsqrtsqrtsqrtlogsinlogsqrtsqrtsq\n",
      "rt-sinsin0sqrtloglog-0sqrtlogsqrtsqrtexp-sin1-loglog--sinexpsinlogsqrt\n",
      "log-expsinsqrtsqrtsqrtexp-exp-sinlog-log0sinsqrtsqrt-01sin-sin-expexpe\n",
      "xp0logexp-sinsinexpsin-1logsin1exp-explogexp--logexpsqrtlogsqrtlog-sqr\n",
      "texplog-0sqrtsqrtsqrtlogsinexp-logexpexpsqrtlogsin-sqrtsqrtsqrtexp1sqr\n",
      "t11-sqrt0-1-expsqrtsqrtloglogexpsinsqrt0-log01exp-sin----0loglog-logsq\n",
      "rt--expsqrtsqrtlog-1exp1-loglog-exp1expsqrt-0sqrtlog-sqrtexp---sin10\n",
      "\n"
     ]
    },
    {
     "data": {
      "text/plain": [
       "['<SOS_EQ>1sqrtsin00sin0loglogsqrtexpsqrtlog-logsin-sqrtloglogsinsinloge\\nxp-logexp-sqrtsqrtexpsqrtsqrt010sqrt0log1expsqrtlogsinloglogsqrt1logex\\npexplogsinlogsinsqrtsin--explogsqrtsqrt-sqrtlog--1logsin0sin1sqrtexp0s\\nqrt0-10log01logexplogexp1sinexp1sqrtexplog-sin0-loglogsqrtsinlog0sqrtl\\noglog--exp1logexpsin-expsqrtsin-0sinexpexp0expsinsinexpexp-sinsqrtlogs\\nqrtlog-1sqrtsinsqrtlogsqrtexpsqrtsinexpsinsqrtsin-exp1logsqrt-exp-exps\\nqrtexpsqrt-exploglog00sqrtlogsin-sqrtsqrtsinsinsinloglogsin-sqrt00-log\\n-explogexpsin-0sqrt0exp--exp-logsqrtlogsinlog-sqrt-expsinsin1logexplog\\nloglog10sinsqrtexpexplog-sqrtexp-log1logsqrt0-expsqrt0logexpsinexpsin0\\n-sqrtsinsin0expexplogsqrt-sinsin0sin00sqrt0sin-0sqrtlogsqrtsqrt--sinlo\\ng--exp---exp-sin-logsinexp00sqrt-0log-sqrt--expsqrtloglogexp-loglogexp\\n0-exp--sqrt0sqrt-exp-logsqrtlogsqrtsinsqrtsqrtsinexploglog--sinsinlogs\\nqrtexpsqrtsqrtsqrt--log-logsqrtsqrtexpexp-sin-exp-0exp--1sin-sqrtsinlo\\ngexpsin0log0-00loglog-exp0exp0-sqrt0sinsinsqrt-0exploglogsqrtsinsqrt10\\n-0-0--log-0sinlogexpexploglog--logsqrtexp-sqrtexplogsinsqrtsinexpsinex\\np--010sinexp-loglogsinlog0-exp-exp0logsinlog1-01sqrtsinexp-logexpexplo\\nglog-exp-log1-log---sqrtexp-sin--sqrtlogsinsinexp00exp-1sin-logsqrtsqr\\nt-logsinlogsqrt-sqrtsqrtsinsqrt-sinsin10sqrt0-sin-sin0sqrt-logexp0log0\\n0log1exp-logsinexpexpexpsqrtlogexplogsinlogsinsqrt1logsin-1loglogexp0e\\nxpsqrtsinsinsqrt0sqrtsinlogsinloglogsinsqrtsinexpexp--loglog-expsqrtsi\\nnsqrt0logsin0log0logexplogexpsinloglog--logexp-logsqrt1sinexpsin-00log\\nsqrtlogsqrtlog00expsin--sinsinlogexp0sinlogsinlog-expsin0sqrt0logexp-e\\nxpsinsqrt0logexp-sqrtsqrtexpexp-explogsin-1sin11log-log0--explogsinexp\\nloglogsqrtsqrtsqrtsqrtexpexpsinexplogsqrtsqrtexp1explogsqrt0-sqrtloglo\\ngsqrtexpsqrtsinexp0-log1loglog01--01logsqrtsinsqrtsqrt0loglogsqrt-sins\\ninlog-0expexpsqrtlogloglogexpsqrt-log001sin-sinsinexpsqrt--sqrt-explog\\nexp-expexpsinsqrt--expsqrt1-sinlogloglogexp-sinexp-0exp-1logsqrtlog0si\\nn-exp1logsqrtsinexpsinlog-exploglogsqrtsqrtlog0sqrtsqrtexplogsin--sinl\\nogloglog1logsqrt-sqrtsqrtsqrtexp-0exp00sinsin---0log-exp---log0-0-1exp\\n00expexpsqrt--exp0logloglogsqrt--sinexpsqrtsqrtsqrtlogsinlogsqrtsqrtsq\\nrt-sinsin0sqrtloglog-0sqrtlogsqrtsqrtexp-sin1-loglog--sinexpsinlogsqrt\\nlog-expsinsqrtsqrtsqrtexp-exp-sinlog-log0sinsqrtsqrt-01sin-sin-expexpe\\nxp0logexp-sinsinexpsin-1logsin1exp-explogexp--logexpsqrtlogsqrtlog-sqr\\ntexplog-0sqrtsqrtsqrtlogsinexp-logexpexpsqrtlogsin-sqrtsqrtsqrtexp1sqr\\nt11-sqrt0-1-expsqrtsqrtloglogexpsinsqrt0-log01exp-sin----0loglog-logsq\\nrt--expsqrtsqrtlog-1exp1-loglog-exp1expsqrt-0sqrtlog-sqrtexp---sin10']"
      ]
     },
     "execution_count": 15,
     "metadata": {},
     "output_type": "execute_result"
    }
   ],
   "source": [
    "#from scripts import demo\n",
    "\n",
    "X = [[1.43956], [1.45615], [0.2848], [2.55005], [2.1613], [2.66458], [1.34165], [1.91112], [2.78582]]\n",
    "Y = [-0.93153, -0.9313, -0.97787, 0.20689, -0.78345, 0.45886, -0.93799, -0.99834, 0.64146]\n",
    "inContext = '<SOS_X>{}<EOS_X><SOS_Y>{}<EOS_Y><SOS_EQ>'.format(X,Y)\n",
    "\n",
    "import demo\n",
    "demo.wraper(top_p, config_fn, ckpt_fn, min_len, sample_num, saveFlag, filters, \n",
    "            context=[inContext], modelType=model_type, max_num_points=30, max_num_vars=5)\n",
    "\n",
    "# Some cool Example As Input:"
   ]
  },
  {
   "cell_type": "code",
   "execution_count": 13,
   "metadata": {},
   "outputs": [],
   "source": [
    "res = [1.43956, 0, 0, 0, 0, -0.93153, 1.45615, 0, 0, 0, 0, -0.9313, 0.2848, 0, 0, 0, 0, -0.97787, 2.55005, 0, 0, 0, 0, 0.20689, 2.1613, 0, 0, 0, 0, -0.78345, 2.66458, 0, 0, 0, 0, 0.45886, 1.34165, 0, 0, 0, 0, -0.93799, 1.91112, 0, 0, 0, 0, -0.99834, 2.78582, 0, 0, 0, 0, 0.64146, 0, 0, 0, 0, 0, 0, 0, 0, 0, 0, 0, 0, 0, 0, 0, 0, 0, 0, 0, 0, 0, 0, 0, 0, 0, 0, 0, 0, 0, 0, 0, 0, 0, 0, 0, 0, 0, 0, 0, 0, 0, 0, 0, 0, 0, 0, 0, 0, 0, 0, 0, 0, 0, 0, 0, 0, 0, 0, 0, 0, 0, 0, 0, 0, 0, 0, 0, 0, 0, 0, 0, 0, 0, 0, 0, 0, 0, 0, 0, 0, 0, 0, 0, 0, 0, 0, 0, 0, 0, 0, 0, 0, 0, 0, 0, 0, 0, 0, 0, 0, 0, 0, 0, 0, 0, 0, 0, 0, 0, 0, 0, 0, 0, 0, 0, 0, 0, 0, 0, 0, 0, 0, 0, 0, 0, 0, 0, 0, 0, 0, 0, 0]"
   ]
  },
  {
   "cell_type": "code",
   "execution_count": 14,
   "metadata": {},
   "outputs": [
    {
     "data": {
      "text/plain": [
       "186"
      ]
     },
     "execution_count": 14,
     "metadata": {},
     "output_type": "execute_result"
    }
   ],
   "source": [
    "len(res)"
   ]
  },
  {
   "cell_type": "code",
   "execution_count": null,
   "metadata": {},
   "outputs": [],
   "source": []
  }
 ],
 "metadata": {
  "kernelspec": {
   "display_name": "Python 3",
   "language": "python",
   "name": "python3"
  },
  "language_info": {
   "codemirror_mode": {
    "name": "ipython",
    "version": 3
   },
   "file_extension": ".py",
   "mimetype": "text/x-python",
   "name": "python",
   "nbconvert_exporter": "python",
   "pygments_lexer": "ipython3",
   "version": "3.7.6"
  }
 },
 "nbformat": 4,
 "nbformat_minor": 4
}
