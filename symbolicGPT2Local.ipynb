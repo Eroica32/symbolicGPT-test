{
 "cells": [
  {
   "cell_type": "code",
   "execution_count": 5,
   "metadata": {},
   "outputs": [],
   "source": [
    "#@title #Inference\n",
    "model_path = 'D:/experiments/base' # '.'\n",
    "min_len = 0 #@param {type:\"number\", min:5, max:1024, step:1}\n",
    "sample_num = 1 #@param {type:\"number\", min:1, max:50, step:1}\n",
    "top_p = 0.7 #@param {type:\"number\", min:0, max:1}\n",
    "model_size = 'base' #@param {type:\"string\"}\n",
    "model_type = 'PT' #@param {type:\"string\"} # GPT2/PT\n",
    "extraName = '' #'-finetune'\n",
    "config_fn = 'configs/{}.json'.format(model_size) #'lm/configs/{}.json'.format(model_type) #@param {type:\"string\"}\n",
    "#ckpt_fn = '{}/experimentsSymbolic_{}{}_model.ckpt-188000'.format(model_path, model_size, extraName) #@param {type:\"string\"}\n",
    "ckpt_fn = '{}/model.ckpt-0'.format(model_path)\n",
    "filters = '' #@param {type:\"string\"} # text;\n",
    "saveFlag = False #@param {type:\"boolean\"}from scripts import demodemo.wraper(top_p, config_fn, ckpt_fn, min_len, sample_num, saveFlag, filters)"
   ]
  },
  {
   "cell_type": "code",
   "execution_count": 6,
   "metadata": {},
   "outputs": [
    {
     "name": "stdout",
     "output_type": "stream",
     "text": [
      "INFO:tensorflow:Restoring parameters from D:/experiments/base/model.ckpt-0\n",
      "🍺Model loaded. \n",
      "\n",
      "Input something please:⬇️\n",
      "Input prompt ending with an empty line: <SOS_X>[[0.1], [0.2], [0.31], [0.41], [0.51], [0.62], [0.72], [0.82], [0.93], [1.03], [1.13], [1.24], [1.34], [1.44], [1.55], [1.65], [1.76], [1.86], [1.96], [2.07], [2.17], [2.27], [2.38], [2.48], [2.58], [2.69], [2.79], [2.89], [3.0], [3.1]]<EOS_X><SOS_Y>[-2.54, -1.97, -1.6, -1.34, -1.12, -0.89, -0.67, -0.45, -0.18, 0.08, 0.38, 0.74, 1.12, 1.54, 2.06, 2.61, 3.29, 3.99, 4.78, 5.77, 6.79, 7.93, 9.37, 10.85, 12.51, 14.58, 16.71, 19.1, 22.07, 25.11]<EOS_Y><SOS_EQ>exp(x1)*log(x1)<EOS_EQ>\n",
      "\n"
     ]
    },
    {
     "ename": "NameError",
     "evalue": "name 'SOS_Y' is not defined",
     "output_type": "error",
     "traceback": [
      "\u001b[1;31m---------------------------------------------------------------------------\u001b[0m",
      "\u001b[1;31mNameError\u001b[0m                                 Traceback (most recent call last)",
      "\u001b[1;32m<ipython-input-6-00084163f33c>\u001b[0m in \u001b[0;36m<module>\u001b[1;34m\u001b[0m\n\u001b[0;32m      2\u001b[0m \u001b[1;32mimport\u001b[0m \u001b[0mdemo\u001b[0m\u001b[1;33m\u001b[0m\u001b[1;33m\u001b[0m\u001b[0m\n\u001b[0;32m      3\u001b[0m demo.wraper(top_p, config_fn, ckpt_fn, min_len, sample_num, saveFlag, filters, \n\u001b[1;32m----> 4\u001b[1;33m             context='user', modelType=model_type, max_num_points=30, max_num_vars=5)\n\u001b[0m\u001b[0;32m      5\u001b[0m \u001b[1;33m\u001b[0m\u001b[0m\n\u001b[0;32m      6\u001b[0m \u001b[1;31m# Some cool Example As Input:\u001b[0m\u001b[1;33m\u001b[0m\u001b[1;33m\u001b[0m\u001b[1;33m\u001b[0m\u001b[0m\n",
      "\u001b[1;32m~\\OneDrive - University of Waterloo\\Projects\\symbolicgpt2\\demo.py\u001b[0m in \u001b[0;36mwraper\u001b[1;34m(top_p, config_fn, ckpt_fn, min_len, sample_num, saveFlag, filters, context, modelType, max_num_points, max_num_vars)\u001b[0m\n\u001b[0;32m    422\u001b[0m     \u001b[1;32mif\u001b[0m \u001b[0mfilters\u001b[0m \u001b[1;33m!=\u001b[0m \u001b[1;34m''\u001b[0m\u001b[1;33m:\u001b[0m\u001b[1;33m\u001b[0m\u001b[1;33m\u001b[0m\u001b[0m\n\u001b[0;32m    423\u001b[0m         \u001b[0msys\u001b[0m\u001b[1;33m.\u001b[0m\u001b[0margv\u001b[0m \u001b[1;33m+=\u001b[0m \u001b[1;33m[\u001b[0m\u001b[1;34m'-filters'\u001b[0m\u001b[1;33m,\u001b[0m \u001b[1;34m'{}'\u001b[0m\u001b[1;33m.\u001b[0m\u001b[0mformat\u001b[0m\u001b[1;33m(\u001b[0m\u001b[0mfilters\u001b[0m\u001b[1;33m)\u001b[0m\u001b[1;33m]\u001b[0m\u001b[1;33m\u001b[0m\u001b[1;33m\u001b[0m\u001b[0m\n\u001b[1;32m--> 424\u001b[1;33m     \u001b[1;32mreturn\u001b[0m \u001b[0mmain\u001b[0m\u001b[1;33m(\u001b[0m\u001b[1;33m)\u001b[0m\u001b[1;33m\u001b[0m\u001b[1;33m\u001b[0m\u001b[0m\n\u001b[0m\u001b[0;32m    425\u001b[0m \u001b[1;33m\u001b[0m\u001b[0m\n\u001b[0;32m    426\u001b[0m \u001b[1;32mif\u001b[0m \u001b[0m__name__\u001b[0m \u001b[1;33m==\u001b[0m \u001b[1;34m\"__main__\"\u001b[0m\u001b[1;33m:\u001b[0m\u001b[1;33m\u001b[0m\u001b[1;33m\u001b[0m\u001b[0m\n",
      "\u001b[1;32m~\\OneDrive - University of Waterloo\\Projects\\symbolicgpt2\\demo.py\u001b[0m in \u001b[0;36mmain\u001b[1;34m()\u001b[0m\n\u001b[0;32m    308\u001b[0m                 \u001b[0mpointsX\u001b[0m \u001b[1;33m=\u001b[0m \u001b[0mpointsY\u001b[0m\u001b[1;33m.\u001b[0m\u001b[0mreplace\u001b[0m\u001b[1;33m(\u001b[0m\u001b[1;34m'<EOS_X>'\u001b[0m\u001b[1;33m,\u001b[0m\u001b[1;34m''\u001b[0m\u001b[1;33m)\u001b[0m\u001b[1;33m\u001b[0m\u001b[1;33m\u001b[0m\u001b[0m\n\u001b[0;32m    309\u001b[0m \u001b[1;33m\u001b[0m\u001b[0m\n\u001b[1;32m--> 310\u001b[1;33m                 \u001b[0mx\u001b[0m \u001b[1;33m=\u001b[0m \u001b[0meval\u001b[0m\u001b[1;33m(\u001b[0m\u001b[0mpointsX\u001b[0m\u001b[1;33m)\u001b[0m\u001b[1;33m\u001b[0m\u001b[1;33m\u001b[0m\u001b[0m\n\u001b[0m\u001b[0;32m    311\u001b[0m                 \u001b[0my\u001b[0m \u001b[1;33m=\u001b[0m \u001b[0meval\u001b[0m\u001b[1;33m(\u001b[0m\u001b[0mpointsY\u001b[0m\u001b[1;33m)\u001b[0m\u001b[1;33m\u001b[0m\u001b[1;33m\u001b[0m\u001b[0m\n\u001b[0;32m    312\u001b[0m \u001b[1;33m\u001b[0m\u001b[0m\n",
      "\u001b[1;32m~\\OneDrive - University of Waterloo\\Projects\\symbolicgpt2\\demo.py\u001b[0m in \u001b[0;36m<module>\u001b[1;34m\u001b[0m\n",
      "\u001b[1;31mNameError\u001b[0m: name 'SOS_Y' is not defined"
     ]
    }
   ],
   "source": [
    "#from scripts import demo\n",
    "import demo\n",
    "demo.wraper(top_p, config_fn, ckpt_fn, min_len, sample_num, saveFlag, filters, \n",
    "            context='user', modelType=model_type, max_num_points=30, max_num_vars=5)\n",
    "\n",
    "# Some cool Example As Input:\n",
    "\n",
    "# <SOS_X>[[0.1], [0.2], [0.31], [0.41], [0.51], [0.62], [0.72], [0.82], [0.93], [1.03], [1.13], [1.24], [1.34], [1.44], [1.55], [1.65], [1.76], [1.86], [1.96], [2.07], [2.17], [2.27], [2.38], [2.48], [2.58], [2.69], [2.79], [2.89], [3.0], [3.1]]<EOS_X><SOS_Y>[-2.54, -1.97, -1.6, -1.34, -1.12, -0.89, -0.67, -0.45, -0.18, 0.08, 0.38, 0.74, 1.12, 1.54, 2.06, 2.61, 3.29, 3.99, 4.78, 5.77, 6.79, 7.93, 9.37, 10.85, 12.51, 14.58, 16.71, 19.1, 22.07, 25.11]<EOS_Y><SOS_EQ>exp(x1)*log(x1)<EOS_EQ>"
   ]
  },
  {
   "cell_type": "code",
   "execution_count": null,
   "metadata": {},
   "outputs": [],
   "source": [
    "prompt = input(\"Input prompt ending with an empty line: \")\n",
    "#text = \"\\n\".join(prompt)\n",
    "text = text.replace('\\\\n', '\\n')"
   ]
  },
  {
   "cell_type": "code",
   "execution_count": 2,
   "metadata": {},
   "outputs": [
    {
     "data": {
      "text/plain": [
       "'<\\nS\\nO\\nS\\n_\\nX\\n>\\n[\\n[\\n0\\n.\\n1\\n]\\n,\\n \\n[\\n0\\n.\\n2\\n]\\n,\\n \\n[\\n0\\n.\\n3\\n1\\n]\\n,\\n \\n[\\n0\\n.\\n4\\n1\\n]\\n,\\n \\n[\\n0\\n.\\n5\\n1\\n]\\n,\\n \\n[\\n0\\n.\\n6\\n2\\n]\\n,\\n \\n[\\n0\\n.\\n7\\n2\\n]\\n,\\n \\n[\\n0\\n.\\n8\\n2\\n]\\n,\\n \\n[\\n0\\n.\\n9\\n3\\n]\\n,\\n \\n[\\n1\\n.\\n0\\n3\\n]\\n,\\n \\n[\\n1\\n.\\n1\\n3\\n]\\n,\\n \\n[\\n1\\n.\\n2\\n4\\n]\\n,\\n \\n[\\n1\\n.\\n3\\n4\\n]\\n,\\n \\n[\\n1\\n.\\n4\\n4\\n]\\n,\\n \\n[\\n1\\n.\\n5\\n5\\n]\\n,\\n \\n[\\n1\\n.\\n6\\n5\\n]\\n,\\n \\n[\\n1\\n.\\n7\\n6\\n]\\n,\\n \\n[\\n1\\n.\\n8\\n6\\n]\\n,\\n \\n[\\n1\\n.\\n9\\n6\\n]\\n,\\n \\n[\\n2\\n.\\n0\\n7\\n]\\n,\\n \\n[\\n2\\n.\\n1\\n7\\n]\\n,\\n \\n[\\n2\\n.\\n2\\n7\\n]\\n,\\n \\n[\\n2\\n.\\n3\\n8\\n]\\n,\\n \\n[\\n2\\n.\\n4\\n8\\n]\\n,\\n \\n[\\n2\\n.\\n5\\n8\\n]\\n,\\n \\n[\\n2\\n.\\n6\\n9\\n]\\n,\\n \\n[\\n2\\n.\\n7\\n9\\n]\\n,\\n \\n[\\n2\\n.\\n8\\n9\\n]\\n,\\n \\n[\\n3\\n.\\n0\\n]\\n,\\n \\n[\\n3\\n.\\n1\\n]\\n]\\n<\\nE\\nO\\nS\\n_\\nX\\n>\\n<\\nS\\nO\\nS\\n_\\nY\\n>\\n[\\n-\\n2\\n.\\n5\\n4\\n,\\n \\n-\\n1\\n.\\n9\\n7\\n,\\n \\n-\\n1\\n.\\n6\\n,\\n \\n-\\n1\\n.\\n3\\n4\\n,\\n \\n-\\n1\\n.\\n1\\n2\\n,\\n \\n-\\n0\\n.\\n8\\n9\\n,\\n \\n-\\n0\\n.\\n6\\n7\\n,\\n \\n-\\n0\\n.\\n4\\n5\\n,\\n \\n-\\n0\\n.\\n1\\n8\\n,\\n \\n0\\n.\\n0\\n8\\n,\\n \\n0\\n.\\n3\\n8\\n,\\n \\n0\\n.\\n7\\n4\\n,\\n \\n1\\n.\\n1\\n2\\n,\\n \\n1\\n.\\n5\\n4\\n,\\n \\n2\\n.\\n0\\n6\\n,\\n \\n2\\n.\\n6\\n1\\n,\\n \\n3\\n.\\n2\\n9\\n,\\n \\n3\\n.\\n9\\n9\\n,\\n \\n4\\n.\\n7\\n8\\n,\\n \\n5\\n.\\n7\\n7\\n,\\n \\n6\\n.\\n7\\n9\\n,\\n \\n7\\n.\\n9\\n3\\n,\\n \\n9\\n.\\n3\\n7\\n,\\n \\n1\\n0\\n.\\n8\\n5\\n,\\n \\n1\\n2\\n.\\n5\\n1\\n,\\n \\n1\\n4\\n.\\n5\\n8\\n,\\n \\n1\\n6\\n.\\n7\\n1\\n,\\n \\n1\\n9\\n.\\n1\\n,\\n \\n2\\n2\\n.\\n0\\n7\\n,\\n \\n2\\n5\\n.\\n1\\n1\\n]\\n<\\nE\\nO\\nS\\n_\\nY\\n>\\n<\\nS\\nO\\nS\\n_\\nE\\nQ\\n>\\ne\\nx\\np\\n(\\nx\\n1\\n)\\n*\\nl\\no\\ng\\n(\\nx\\n1\\n)\\n<\\nE\\nO\\nS\\n_\\nE\\nQ\\n>'"
      ]
     },
     "execution_count": 2,
     "metadata": {},
     "output_type": "execute_result"
    }
   ],
   "source": [
    "text"
   ]
  },
  {
   "cell_type": "code",
   "execution_count": null,
   "metadata": {},
   "outputs": [],
   "source": [
    "# Filter points \n",
    "if '<SOS_EQ>' in text:\n",
    "    posSOS_EQ = text.find('<SOS_EQ>')\n",
    "else:\n",
    "    posSOS_EQ = -1 # assume everything is points\n",
    "points = text[:posSOS_EQ]\n",
    "\n",
    "if '<SOS_Y>' in text:\n",
    "    posSOS_Y = text.find('<SOS_Y>')\n",
    "else:\n",
    "    posSOS_Y = -1 # assume everything is x\n",
    "\n",
    "pointsX = points[:posSOS_Y]\n",
    "pointsY = points[posSOS_Y+1:] if posSOS_Y != -1 else ''\n",
    "pointsY = pointsY.replace('<EOS_Y>','')\n",
    "\n",
    "pointsX = pointsY.replace('<SOS_X>','')\n",
    "pointsX = pointsY.replace('<EOS_X>','')\n",
    "\n",
    "x = eval(pointsX)\n",
    "y = eval(pointsY)\n",
    "\n",
    "points = list(map(lambda x,y:x+[y],x,y)) + [[0]*(args.max_num_vars+1)]*(args.max_num_points+1)\n",
    "\n",
    "if args.modelType == 'PT':\n",
    "    text = text[posSOS_EQ:]"
   ]
  }
 ],
 "metadata": {
  "kernelspec": {
   "display_name": "Python 3",
   "language": "python",
   "name": "python3"
  },
  "language_info": {
   "codemirror_mode": {
    "name": "ipython",
    "version": 3
   },
   "file_extension": ".py",
   "mimetype": "text/x-python",
   "name": "python",
   "nbconvert_exporter": "python",
   "pygments_lexer": "ipython3",
   "version": "3.7.6"
  }
 },
 "nbformat": 4,
 "nbformat_minor": 4
}
